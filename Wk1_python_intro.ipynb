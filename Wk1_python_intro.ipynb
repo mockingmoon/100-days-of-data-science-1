{
  "nbformat": 4,
  "nbformat_minor": 0,
  "metadata": {
    "celltoolbar": "Slideshow",
    "kernelspec": {
      "display_name": "Python 3",
      "language": "python",
      "name": "python3"
    },
    "language_info": {
      "codemirror_mode": {
        "name": "ipython",
        "version": 3
      },
      "file_extension": ".py",
      "mimetype": "text/x-python",
      "name": "python",
      "nbconvert_exporter": "python",
      "pygments_lexer": "ipython3",
      "version": "3.6.5"
    },
    "toc": {
      "colors": {
        "hover_highlight": "#DAA520",
        "running_highlight": "#FF0000",
        "selected_highlight": "#FFD700"
      },
      "moveMenuLeft": true,
      "nav_menu": {
        "height": "386px",
        "width": "268px"
      },
      "navigate_menu": true,
      "number_sections": true,
      "sideBar": true,
      "threshold": 4,
      "toc_cell": false,
      "toc_position": {
        "height": "664px",
        "left": "0px",
        "right": "1388px",
        "top": "107px",
        "width": "233px"
      },
      "toc_section_display": "block",
      "toc_window_display": true
    },
    "colab": {
      "name": "Wk1_python_getting_started_lecture.ipynb",
      "provenance": []
    }
  },
  "cells": [
    {
      "cell_type": "markdown",
      "metadata": {
        "id": "qKTFpWDse9Zt"
      },
      "source": [
        "<img src=\"https://github.com/mockingmoon/26-Weeks-Of-Data-Science/blob/master/Week-01-Git_%26_Python_intro/images/26-weeks-of-data-science-banner.jpg?raw=1\"/>"
      ]
    },
    {
      "cell_type": "markdown",
      "metadata": {
        "id": "N-qkfeTRe9Zz"
      },
      "source": [
        " # Getting Started with Python"
      ]
    },
    {
      "cell_type": "markdown",
      "metadata": {
        "id": "FttbCaExe9Z0"
      },
      "source": [
        "## About Python"
      ]
    },
    {
      "cell_type": "markdown",
      "metadata": {
        "id": "QICNHLjTe9Z0"
      },
      "source": [
        "<img src=\"https://github.com/mockingmoon/26-Weeks-Of-Data-Science/blob/master/Week-01-Git_%26_Python_intro/images/python-logo.png?raw=1\" alt=\"Python\" style=\"width: 500px;\"/>\n",
        "\n",
        "\n",
        "Python is a\n",
        "\n",
        "- general purpose programming language\n",
        "- interpreted, not compiled\n",
        "- both **dynamically typed** _and_ **strongly typed**\n",
        "- supports multiple programming paradigms: object oriented, functional\n",
        "- comes in 2 main versions in use today: 2.7 and 3.x\n"
      ]
    },
    {
      "cell_type": "markdown",
      "metadata": {
        "id": "PVk5pfN5e9Z1"
      },
      "source": [
        "## Why Python for Data Science?\n",
        "***\n",
        "\n",
        "Python is great for data science because:\n",
        "\n",
        "- general purpose programming language (as opposed to R)\n",
        "- faster idea to execution to deployment\n",
        "- battle-tested\n",
        "- mature ML libraries\n"
      ]
    },
    {
      "cell_type": "markdown",
      "metadata": {
        "id": "e8Cr_Vqle9Z1"
      },
      "source": [
        "<div class=\"alert alert-block alert-success\">And it is easy to learn !</div>\n"
      ]
    },
    {
      "cell_type": "markdown",
      "metadata": {
        "id": "3Vxk8keLe9Z1"
      },
      "source": [
        "<img src=\"https://github.com/mockingmoon/26-Weeks-Of-Data-Science/blob/master/Week-01-Git_%26_Python_intro/images/icon/Concept-Alert.png?raw=1\" alt=\"Concept-Alert\" style=\"width: 100px;float:left; margin-right:15px\"/>\n",
        "<br />\n",
        "\n",
        "## Python's Interactive Console : The Interpreter\n",
        "\n",
        "***\n",
        "- The Python interpreter is a console that allows interactive development\n",
        "- We are currently using the Jupyter notebook, which uses an advanced Python interpreter called IPython\n",
        "- This gives us much more power and flexibility\n",
        "\n",
        "**Let's try it out !**\n",
        "\n",
        "\n",
        "\n",
        "\n",
        "\n",
        "\n"
      ]
    },
    {
      "cell_type": "code",
      "metadata": {
        "id": "Cizq-u80e9Z1",
        "colab": {
          "base_uri": "https://localhost:8080/"
        },
        "outputId": "a1b3b1d2-9e27-431a-8953-df774540be9d"
      },
      "source": [
        "print(\"Hello World!\") #As usual with any language we start with with the print function"
      ],
      "execution_count": 1,
      "outputs": [
        {
          "output_type": "stream",
          "text": [
            "Hello World!\n"
          ],
          "name": "stdout"
        }
      ]
    },
    {
      "cell_type": "markdown",
      "metadata": {
        "id": "R1q3dGwqe9Z2"
      },
      "source": [
        "# What are we going to learn today?\n",
        "***\n",
        "- CHAPTER 1 - **Python Basics**\n",
        "     - **Strings**\n",
        "      - Creating a String, variable assignments\n",
        "      - String Indexing & Slicing\n",
        "      - String Concatenation & Repetition\n",
        "      - Basic Built-in String Methods\n",
        "     - **Numbers**\n",
        "      - Types of Numbers\n",
        "      - Basic Arithmetic\n",
        "      \n",
        "\n",
        "\n",
        "- CHAPTER 2 - **Data Types & Data Structures**\n",
        "     - Lists\n",
        "     - Dictionaries\n",
        "     - Sets & Booleans\n",
        "\n",
        "\n",
        "- CHAPTER 3 - **Python Programming Constructs**\n",
        "     - Loops & Iterative Statements\n",
        "      - if,elif,else statements\n",
        "      - for loops, while loops\n",
        "     - Comprehensions\n",
        "     - Exception Handling\n",
        "     - Modules, Packages, \n",
        "     - File I/O operations\n",
        "    "
      ]
    },
    {
      "cell_type": "markdown",
      "metadata": {
        "id": "PRJfmSEDe9Z3"
      },
      "source": [
        "# CHAPTER - 1 : Python Basics\n",
        "***\n",
        "Let's understand \n",
        "- Basic data types\n",
        "- Variables and Scoping\n",
        "- Modules, Packages and the **`import`** statement\n",
        "- Operators\n"
      ]
    },
    {
      "cell_type": "markdown",
      "metadata": {
        "id": "AdIUlhwqe9Z3"
      },
      "source": [
        "<img src=\"https://github.com/mockingmoon/26-Weeks-Of-Data-Science/blob/master/Week-01-Git_%26_Python_intro/images/icon/Technical-Stuff.png?raw=1\" alt=\"Concept-Alert\" style=\"width: 100px;float:left; margin-right:15px\"/>\n",
        "<br /> \n",
        "\n",
        "## Strings\n",
        "***\n",
        "\n",
        "Strings are used in Python to record text information, such as name. Strings in Python are actually a *sequence*, which basically means Python keeps track of every element in the string as a sequence. For example, Python understands the string \"hello' to be a sequence of letters in a specific order. This means we will be able to use indexing to grab particular letters (like the first letter, or the last letter).\n",
        "\n",
        "This idea of a sequence is an important one in Python and we will touch upon it later on in the future.\n",
        "\n",
        "In this lecture we'll learn about the following:\n",
        "\n",
        "    1.) Creating Strings\n",
        "    2.) Printing Strings\n",
        "    3.) String Indexing and Slicing\n",
        "    4.) String Properties\n",
        "    5.) String Methods\n",
        "    6.) Print Formatting"
      ]
    },
    {
      "cell_type": "markdown",
      "metadata": {
        "id": "WRKsu1u3e9Z3"
      },
      "source": [
        "<img src=\"https://github.com/mockingmoon/26-Weeks-Of-Data-Science/blob/master/Week-01-Git_%26_Python_intro/images/icon/Technical-Stuff.png?raw=1\" alt=\"Technical-Stuff\" style=\"width: 100px;float:left; margin-right:15px\"/>\n",
        "<br />\n",
        "\n",
        "### Creating a String\n",
        "***\n",
        "To create a string in Python you need to use either single quotes or double quotes. For example:"
      ]
    },
    {
      "cell_type": "code",
      "metadata": {
        "id": "gDChmGPxe9Z3",
        "colab": {
          "base_uri": "https://localhost:8080/"
        },
        "outputId": "67719fd6-8387-47c5-bc10-ea744b46c0af"
      },
      "source": [
        "# Single word\n",
        "print('hello')\n",
        "\n",
        "print() # Used to have a line space between two sentences. Try deleting this line & seeing the difference.\n",
        "\n",
        "# Entire phrase \n",
        "print('This is also a string')"
      ],
      "execution_count": 2,
      "outputs": [
        {
          "output_type": "stream",
          "text": [
            "hello\n",
            "\n",
            "This is also a string\n"
          ],
          "name": "stdout"
        }
      ]
    },
    {
      "cell_type": "markdown",
      "metadata": {
        "id": "jDYTKcN5e9Z4"
      },
      "source": [
        "<img src=\"https://github.com/mockingmoon/26-Weeks-Of-Data-Science/blob/master/Week-01-Git_%26_Python_intro/images/icon/Technical-Stuff.png?raw=1\" alt=\"Concept-Alert\" style=\"width: 100px;float:left; margin-right:15px\"/>\n",
        "<br /> \n",
        "\n",
        "## Variables : Store your Value in me!\n",
        "***\n",
        "\n",
        "In the code below we begin to explore how we can use a variable to which a string can be assigned. This can be extremely useful in many cases, where you can call the variable instead of typing the string everytime. This not only makes our code clean but it also makes it less redundant. \n",
        "Example syntax to assign a value or expression to a variable,\n",
        "\n",
        "variable_name = value or expression\n",
        "\n",
        "Now let's get coding!!. With the below block of code showing how to assign a string to variable.\n",
        "\n"
      ]
    },
    {
      "cell_type": "code",
      "metadata": {
        "ExecuteTime": {
          "end_time": "2017-09-25T05:48:54.171197Z",
          "start_time": "2017-09-25T05:48:54.160141Z"
        },
        "id": "6qXQTVbqe9Z4",
        "colab": {
          "base_uri": "https://localhost:8080/"
        },
        "outputId": "ace43be7-c2ef-4c64-8e64-90029d481b39"
      },
      "source": [
        "s = 'New York'\n",
        "\n",
        "print(s)\n",
        "\n",
        "print(type(s))\n",
        "\n",
        "print(len(s))  # what's the string length"
      ],
      "execution_count": 3,
      "outputs": [
        {
          "output_type": "stream",
          "text": [
            "New York\n",
            "<class 'str'>\n",
            "8\n"
          ],
          "name": "stdout"
        }
      ]
    },
    {
      "cell_type": "markdown",
      "metadata": {
        "id": "Q66wzYV9e9Z4"
      },
      "source": [
        "<img src=\"https://github.com/mockingmoon/26-Weeks-Of-Data-Science/blob/master/Week-01-Git_%26_Python_intro/images/icon/Technical-Stuff.png?raw=1\" alt=\"Technical-Stuff\" style=\"width: 100px;float:left; margin-right:15px\"/>\n",
        "<br />\n",
        "\n",
        "### String Indexing\n",
        "***\n",
        "We know strings are a sequence, which means Python can use indexes to call parts of the sequence. Let's learn how this works.\n",
        "\n",
        "In Python, we use brackets [] after an object to call its index. We should also note that indexing starts at 0 for Python. Let's create a new object called s and the walk through a few examples of indexing."
      ]
    },
    {
      "cell_type": "code",
      "metadata": {
        "id": "-7ZrqVZqe9Z4"
      },
      "source": [
        "# Assign s as a string\n",
        "s = 'Hello World'"
      ],
      "execution_count": 4,
      "outputs": []
    },
    {
      "cell_type": "code",
      "metadata": {
        "id": "sl49SQW9e9Z5",
        "colab": {
          "base_uri": "https://localhost:8080/"
        },
        "outputId": "47b9538d-f7f6-4a20-cc2f-f13d96dfc99e"
      },
      "source": [
        "# Print the object\n",
        "print(s) \n",
        "\n",
        "print()  \n",
        "\n",
        "# Show first element (in this case a letter)\n",
        "print(s[0])\n",
        "\n",
        "print()\n",
        "\n",
        "# Show the second element (also a letter)\n",
        "print(s[1])"
      ],
      "execution_count": 5,
      "outputs": [
        {
          "output_type": "stream",
          "text": [
            "Hello World\n",
            "\n",
            "H\n",
            "\n",
            "e\n"
          ],
          "name": "stdout"
        }
      ]
    },
    {
      "cell_type": "markdown",
      "metadata": {
        "id": "qDXLuHm9e9Z5"
      },
      "source": [
        "<img src=\"https://github.com/mockingmoon/26-Weeks-Of-Data-Science/blob/master/Week-01-Git_%26_Python_intro/images/icon/Technical-Stuff.png?raw=1\" alt=\"Technical-Stuff\" style=\"width: 100px;float:left; margin-right:15px\"/>\n",
        "<br />\n",
        "\n",
        "## String Concatenation and Repetition\n",
        "\n",
        "***\n",
        "**String Concatenation** is a process to combine two strings. It is done using the '+' operator. \n",
        "\n",
        "**String Repetition** is a process of repeating a same string multiple times\n",
        "\n",
        "The examples of the above concepts is as follows."
      ]
    },
    {
      "cell_type": "code",
      "metadata": {
        "ExecuteTime": {
          "end_time": "2017-09-25T05:48:56.114365Z",
          "start_time": "2017-09-25T05:48:56.105824Z"
        },
        "id": "LgWYaXXDe9Z5",
        "colab": {
          "base_uri": "https://localhost:8080/"
        },
        "outputId": "c4b9b302-c7d2-41b0-aa28-6ce0a976a80a"
      },
      "source": [
        "# concatenation (addition)\n",
        "\n",
        "s1 = 'Hello'\n",
        "s2 = \"World\"\n",
        "print(s1 + \" \" + s2)"
      ],
      "execution_count": 6,
      "outputs": [
        {
          "output_type": "stream",
          "text": [
            "Hello World\n"
          ],
          "name": "stdout"
        }
      ]
    },
    {
      "cell_type": "code",
      "metadata": {
        "ExecuteTime": {
          "end_time": "2017-09-25T05:48:56.705418Z",
          "start_time": "2017-09-25T05:48:56.698786Z"
        },
        "id": "74P_Nmoce9Z5",
        "colab": {
          "base_uri": "https://localhost:8080/"
        },
        "outputId": "cda3b2d7-ebc5-4c4c-9862-445a9f67ac41"
      },
      "source": [
        "# repetition (multiplication)\n",
        "\n",
        "print(\"Hello_\" * 3)\n",
        "print(\"-\" * 10)"
      ],
      "execution_count": 7,
      "outputs": [
        {
          "output_type": "stream",
          "text": [
            "Hello_Hello_Hello_\n",
            "----------\n"
          ],
          "name": "stdout"
        }
      ]
    },
    {
      "cell_type": "markdown",
      "metadata": {
        "id": "j49lEr3ve9Z5"
      },
      "source": [
        "<img src=\"https://github.com/mockingmoon/26-Weeks-Of-Data-Science/blob/master/Week-01-Git_%26_Python_intro/images/icon/Technical-Stuff.png?raw=1\" alt=\"Technical-Stuff\" style=\"width: 100px;float:left; margin-right:15px\"/>\n",
        "<br />\n",
        "\n",
        "## String Slicing & Indexing\n",
        "***\n",
        "**String Indexing** is used to to select the letter at a particular index/position. \n",
        "\n",
        "**String Slicing** is a process to select a subset of an entire string\n",
        "\n",
        "The examples of the above stated are as follows"
      ]
    },
    {
      "cell_type": "code",
      "metadata": {
        "ExecuteTime": {
          "end_time": "2017-09-25T05:49:04.320983Z",
          "start_time": "2017-09-25T05:49:04.295626Z"
        },
        "id": "i3RN3bOje9Z6",
        "colab": {
          "base_uri": "https://localhost:8080/"
        },
        "outputId": "2fdbfaf0-b4c5-4a83-c36b-78f95d090244"
      },
      "source": [
        "s = \"Namaste World\"\n",
        "\n",
        "# print sub strings\n",
        "print(s[1])     #This is indexing.\n",
        "print(s[6:11])  #This is known as slicing.\n",
        "print(s[-5:-1])\n",
        "\n",
        "# test substring membership\n",
        "print(\"Wor\" in s)"
      ],
      "execution_count": 10,
      "outputs": [
        {
          "output_type": "stream",
          "text": [
            "a\n",
            "e Wor\n",
            "Worl\n",
            "True\n"
          ],
          "name": "stdout"
        }
      ]
    },
    {
      "cell_type": "markdown",
      "metadata": {
        "id": "Wugp4Rgye9Z6"
      },
      "source": [
        "Note the above slicing. Here we're telling Python to grab everything from 6 up to 10 and from fifth last to second last. You'll notice this a lot in Python, where statements and are usually in the context of \"up to, but not including\"."
      ]
    },
    {
      "cell_type": "markdown",
      "metadata": {
        "ExecuteTime": {
          "end_time": "2017-09-19T11:18:05.674928Z",
          "start_time": "2017-09-19T11:18:05.661334Z"
        },
        "id": "aXLdYbW1e9Z6"
      },
      "source": [
        "<img src=\"https://github.com/mockingmoon/26-Weeks-Of-Data-Science/blob/master/Week-01-Git_%26_Python_intro/images/icon/Technical-Stuff.png?raw=1\" alt=\"Technical-Stuff\" style=\"width: 100px;float:left; margin-right:15px\"/>\n",
        "<br />\n",
        "\n",
        "## Basic Built-in String methods\n",
        "\n",
        "***\n",
        "Objects in Python usually have built-in methods. These methods are functions inside the object (we will learn about these in much more depth later) that can perform actions or commands on the object itself.\n",
        "\n",
        "We call methods with a period and then the method name. Methods are in the form:\n",
        "\n",
        "object.method(parameters)\n",
        "\n",
        "Where parameters are extra arguments we can pass into the method. Don't worry if the details don't make 100% sense right now. Later on we will be creating our own objects and functions!\n",
        "\n",
        "Here are some examples of built-in methods in strings:"
      ]
    },
    {
      "cell_type": "code",
      "metadata": {
        "ExecuteTime": {
          "end_time": "2017-09-20T09:29:42.931594Z",
          "start_time": "2017-09-20T09:29:42.922130Z"
        },
        "id": "ZfTHp4SAe9Z7",
        "colab": {
          "base_uri": "https://localhost:8080/"
        },
        "outputId": "46b6486f-9341-45f4-d102-349937df1840"
      },
      "source": [
        "s = \"HeLlO wOrLd\" ##random capitalizing\n",
        "\n",
        "print(s.upper()) ## Convert all the element of the string to Upper case..!!\n",
        "print(s.lower()) ## Convert all the element of the string to Lower case..!!\n",
        "print(s.title()) ## Convert first letter of each word to Upper case..!!"
      ],
      "execution_count": 11,
      "outputs": [
        {
          "output_type": "stream",
          "text": [
            "HELLO WORLD\n",
            "hello world\n",
            "Hello World\n"
          ],
          "name": "stdout"
        }
      ]
    },
    {
      "cell_type": "markdown",
      "metadata": {
        "ExecuteTime": {
          "end_time": "2017-09-19T11:18:05.674928Z",
          "start_time": "2017-09-19T11:18:05.661334Z"
        },
        "id": "JMQzuVK1e9Z7"
      },
      "source": [
        "## Print Formatting\n",
        "\n",
        "We can use the .format() method to add formatted objects to printed string statements. \n",
        "\n",
        "The easiest way to show this is through an example:"
      ]
    },
    {
      "cell_type": "code",
      "metadata": {
        "ExecuteTime": {
          "end_time": "2017-09-25T05:49:13.537471Z",
          "start_time": "2017-09-25T05:49:13.527853Z"
        },
        "id": "37GOyKDIe9Z7",
        "colab": {
          "base_uri": "https://localhost:8080/"
        },
        "outputId": "dbfa65a4-a49a-4a20-a6f9-93ba33fbf3a2"
      },
      "source": [
        "name = \"Einstein\"\n",
        "age = 22\n",
        "married = True\n",
        "\n",
        "print(\"My name is %s, my age is %s, and it is %s that I am married\" % (name, age, married))\n",
        "\n",
        "print(\"My name is {}, my age is {}, and it is {} that I am married\".format(name, age, married))"
      ],
      "execution_count": 12,
      "outputs": [
        {
          "output_type": "stream",
          "text": [
            "My name is Einstein, my age is 22, and it is True that I am married\n",
            "My name is Einstein, my age is 22, and it is True that I am married\n"
          ],
          "name": "stdout"
        }
      ]
    },
    {
      "cell_type": "code",
      "metadata": {
        "id": "0mnPYYv-e9Z7"
      },
      "source": [
        ""
      ],
      "execution_count": null,
      "outputs": []
    },
    {
      "cell_type": "markdown",
      "metadata": {
        "id": "Jcmt1eKMe9Z8"
      },
      "source": [
        "<img src=\"https://github.com/mockingmoon/26-Weeks-Of-Data-Science/blob/master/Week-01-Git_%26_Python_intro/images/icon/Concept-Alert.png?raw=1\" alt=\"Concept-Alert\" style=\"width: 100px;float:left; margin-right:15px\"/>\n",
        "<br />\n",
        "\n",
        "## Numbers \n",
        "***\n",
        "\n",
        "Having worked with string we will turn our attention to numbers\n",
        "We'll learn about the following topics:\n",
        "\n",
        "    1.) Types of Numbers in Python\n",
        "    2.) Basic Arithmetic\n",
        "    3.) Object Assignment in Python"
      ]
    },
    {
      "cell_type": "markdown",
      "metadata": {
        "id": "DxIEA_obe9Z8"
      },
      "source": [
        "<img src=\"https://github.com/mockingmoon/26-Weeks-Of-Data-Science/blob/master/Week-01-Git_%26_Python_intro/images/icon/Concept-Alert.png?raw=1\" alt=\"Concept-Alert\" style=\"width: 100px;float:left; margin-right:15px\"/>\n",
        "<br />\n",
        "\n",
        "## Types of numbers\n",
        "***\n",
        "Python has various \"types\" of numbers (numeric literals). We'll mainly focus on integers and floating point numbers.\n",
        "\n",
        "Integers are just whole numbers, positive or negative. For example: 2 and -2 are examples of integers.\n",
        "\n",
        "Floating point numbers in Python are notable because they have a decimal point in them, or use an exponential (e) to define the number. For example 2.0 and -2.1 are examples of floating point numbers. 4E2 (4 times 10 to the power of 2) is also an example of a floating point number in Python.\n",
        "\n",
        "Throughout this course we will be mainly working with integers or simple float number types.\n",
        "\n",
        "Here is a table of the two main types we will spend most of our time working with some examples:\n",
        "\n",
        "<table>\n",
        "<tr>\n",
        "    <th>Examples</th> \n",
        "    <th>Number \"Type\"</th>\n",
        "</tr>\n",
        "\n",
        "<tr>\n",
        "    <td>1,2,-5,1000</td>\n",
        "    <td>Integers</td> \n",
        "</tr>\n",
        "\n",
        "<tr>\n",
        "    <td>1.2,-0.5,2e2,3E2</td> \n",
        "    <td>Floating-point numbers</td> \n",
        "</tr>\n",
        " </table>"
      ]
    },
    {
      "cell_type": "markdown",
      "metadata": {
        "id": "fQxVJW-ke9Z8"
      },
      "source": [
        "Now let's start with some basic arithmetic."
      ]
    },
    {
      "cell_type": "markdown",
      "metadata": {
        "id": "qQKbmjBUe9Z9"
      },
      "source": [
        "## Basic Arithmetic"
      ]
    },
    {
      "cell_type": "code",
      "metadata": {
        "id": "mjRmR4Ske9Z9",
        "colab": {
          "base_uri": "https://localhost:8080/"
        },
        "outputId": "93387668-e396-41ba-b5a8-0aa6194d6da2"
      },
      "source": [
        "# Addition\n",
        "print(2+1)\n",
        "\n",
        "# Subtraction\n",
        "print(2-1)\n",
        "\n",
        "# Multiplication\n",
        "print(2*2)\n",
        "\n",
        "# Division\n",
        "print(3/2)"
      ],
      "execution_count": 13,
      "outputs": [
        {
          "output_type": "stream",
          "text": [
            "3\n",
            "1\n",
            "4\n",
            "1.5\n"
          ],
          "name": "stdout"
        }
      ]
    },
    {
      "cell_type": "markdown",
      "metadata": {
        "id": "SNgzhDjze9Z9"
      },
      "source": [
        "## Arithmetic continued"
      ]
    },
    {
      "cell_type": "code",
      "metadata": {
        "id": "V97g3yode9Z-",
        "colab": {
          "base_uri": "https://localhost:8080/"
        },
        "outputId": "c05818d0-6e25-4501-a459-4b91c1d4b540"
      },
      "source": [
        "# Powers\n",
        "2**3"
      ],
      "execution_count": 14,
      "outputs": [
        {
          "output_type": "execute_result",
          "data": {
            "text/plain": [
              "8"
            ]
          },
          "metadata": {
            "tags": []
          },
          "execution_count": 14
        }
      ]
    },
    {
      "cell_type": "code",
      "metadata": {
        "id": "aLkisFice9Z-",
        "colab": {
          "base_uri": "https://localhost:8080/"
        },
        "outputId": "aa138055-3f5d-4fbf-8042-e3c6000b4667"
      },
      "source": [
        "# Order of Operations followed in Python\n",
        "2 + 10 * 10 + 3 ** 2 * 2 # 1. Power/Multiply/Divide 2. Add/Subtract"
      ],
      "execution_count": 15,
      "outputs": [
        {
          "output_type": "execute_result",
          "data": {
            "text/plain": [
              "120"
            ]
          },
          "metadata": {
            "tags": []
          },
          "execution_count": 15
        }
      ]
    },
    {
      "cell_type": "code",
      "metadata": {
        "id": "2Jcrurjle9Z-",
        "colab": {
          "base_uri": "https://localhost:8080/"
        },
        "outputId": "7b5f23d2-ceb7-4c7b-cf87-26d1342027a7"
      },
      "source": [
        "# Can use parenthesis to specify orders\n",
        "(2+10) * (10+3)"
      ],
      "execution_count": 16,
      "outputs": [
        {
          "output_type": "execute_result",
          "data": {
            "text/plain": [
              "156"
            ]
          },
          "metadata": {
            "tags": []
          },
          "execution_count": 16
        }
      ]
    },
    {
      "cell_type": "markdown",
      "metadata": {
        "id": "46Zw8HVae9Z-"
      },
      "source": [
        "<img src=\"https://github.com/mockingmoon/26-Weeks-Of-Data-Science/blob/master/Week-01-Git_%26_Python_intro/images/icon/Technical-Stuff.png?raw=1\" alt=\"Technical-Stuff\" style=\"width: 100px;float:left; margin-right:15px\"/>\n",
        "<br />\n",
        "\n",
        "## Variable Assignments\n",
        "***\n",
        "Now that we've seen how to use numbers in Python as a calculator let's see how we can assign names and create variables.\n",
        "\n",
        "We use a single equals sign to assign labels to variables. Let's see a few examples of how we can do this."
      ]
    },
    {
      "cell_type": "code",
      "metadata": {
        "id": "2Xtmc6oxe9Z-"
      },
      "source": [
        "# Let's create an object called \"a\" and assign it the number 5\n",
        "a = 5"
      ],
      "execution_count": 17,
      "outputs": []
    },
    {
      "cell_type": "markdown",
      "metadata": {
        "id": "u0L711Ebe9Z_"
      },
      "source": [
        "Now if I call *a* in my Python script, Python will treat it as the number 5."
      ]
    },
    {
      "cell_type": "code",
      "metadata": {
        "id": "uJqt34Hre9Z_",
        "colab": {
          "base_uri": "https://localhost:8080/"
        },
        "outputId": "0a72c738-693c-4630-8b99-c66db7cc604f"
      },
      "source": [
        "# Adding the objects\n",
        "a+a"
      ],
      "execution_count": 18,
      "outputs": [
        {
          "output_type": "execute_result",
          "data": {
            "text/plain": [
              "10"
            ]
          },
          "metadata": {
            "tags": []
          },
          "execution_count": 18
        }
      ]
    },
    {
      "cell_type": "markdown",
      "metadata": {
        "id": "wE0LK8ape9Z_"
      },
      "source": [
        "What happens on reassignment? Will Python let us write it over?"
      ]
    },
    {
      "cell_type": "code",
      "metadata": {
        "id": "ojtJfEj2e9Z_"
      },
      "source": [
        "# Reassignment\n",
        "a = 10"
      ],
      "execution_count": 19,
      "outputs": []
    },
    {
      "cell_type": "code",
      "metadata": {
        "id": "9MUvg2EWe9Z_",
        "colab": {
          "base_uri": "https://localhost:8080/"
        },
        "outputId": "6331ebf9-199e-4845-92a4-5048457bd34f"
      },
      "source": [
        "# Check\n",
        "a"
      ],
      "execution_count": 20,
      "outputs": [
        {
          "output_type": "execute_result",
          "data": {
            "text/plain": [
              "10"
            ]
          },
          "metadata": {
            "tags": []
          },
          "execution_count": 20
        }
      ]
    },
    {
      "cell_type": "markdown",
      "metadata": {
        "id": "OTDu8jwae9Z_"
      },
      "source": [
        "<img src=\"https://github.com/mockingmoon/26-Weeks-Of-Data-Science/blob/master/Week-01-Git_%26_Python_intro/images/icon/ppt-icons.png?raw=1\" alt=\"ppt-icons\" style=\"width: 100px;float:left; margin-right:15px\"/>\n",
        "<br />\n",
        "\n",
        "### Mini Challenge - 1\n",
        "***\n",
        "\n",
        "Its your turn now!! store the word `hello` in my_string. print the my_string + name. "
      ]
    },
    {
      "cell_type": "code",
      "metadata": {
        "id": "quzUk249e9aA",
        "colab": {
          "base_uri": "https://localhost:8080/"
        },
        "outputId": "048e13ea-5993-419d-cced-ff5aec6546ee"
      },
      "source": [
        "my_str = { 1: \"hello\", 2: \"my name is\", 3: \"John Doe\", 4: \".\" }\r\n",
        "for i in my_str.keys():\r\n",
        "  print(my_str[i], end=' ')"
      ],
      "execution_count": 22,
      "outputs": [
        {
          "output_type": "stream",
          "text": [
            "hello my name is John Doe . "
          ],
          "name": "stdout"
        }
      ]
    },
    {
      "cell_type": "markdown",
      "metadata": {
        "id": "7hqp9lBIe9aA"
      },
      "source": [
        "<img src=\"https://github.com/mockingmoon/26-Weeks-Of-Data-Science/blob/master/Week-01-Git_%26_Python_intro/images/icon/ppt-icons.png?raw=1\" alt=\"ppt-icons\" style=\"width: 100px;float:left; margin-right:15px\"/>\n",
        "<br />\n",
        "\n",
        "### Mini Challenge - 2\n",
        "***\n",
        "\n",
        "**Its your turn now!!!** given the numbers stored in variables `a` and `b`. Can you write a simple code to compute the mean of these two numbers and assign it to a variable `mean`. "
      ]
    },
    {
      "cell_type": "code",
      "metadata": {
        "id": "wjb05Rfbe9aA",
        "colab": {
          "base_uri": "https://localhost:8080/"
        },
        "outputId": "7ed602af-d2e1-4519-f6f5-725119063403"
      },
      "source": [
        "myd = { \"a\" : 25, \"b\" : 31, \"c\" : 40 }\r\n",
        "print(myd.values())\r\n",
        "my_mean = sum(myd.values())/len(myd)\r\n",
        "print(\"Mean of \"+str(list(myd.values()))+\" is \"+str(my_mean))"
      ],
      "execution_count": 32,
      "outputs": [
        {
          "output_type": "stream",
          "text": [
            "dict_values([25, 31, 40])\n",
            "Mean of [25, 31, 40] is 32.0\n"
          ],
          "name": "stdout"
        }
      ]
    },
    {
      "cell_type": "markdown",
      "metadata": {
        "id": "FRKNbL6fe9aA"
      },
      "source": [
        "<img src=\"https://github.com/mockingmoon/26-Weeks-Of-Data-Science/blob/master/Week-01-Git_%26_Python_intro/images/icon/Pratical-Tip.png?raw=1\" alt=\"Pratical-Tip\" style=\"width: 100px;float:left; margin-right:15px\"/>\n",
        "<br />\n",
        "The names you use when creating these labels need to follow a few rules:\n",
        "\n",
        "    1. Names can not start with a number.\n",
        "    2. There can be no spaces in the name, use _ instead.\n",
        "    3. Can't use any of these symbols :'\",<>/?|\\()!@#$%^&*~-+\n",
        "\n",
        "\n",
        "Using variable names can be a very useful way to keep track of different variables in Python. For example:"
      ]
    },
    {
      "cell_type": "code",
      "metadata": {
        "id": "TndNN6Kee9aA"
      },
      "source": [
        "calc_mean = (10+20+30)/3\r\n",
        "estimated_mean = 23"
      ],
      "execution_count": 33,
      "outputs": []
    },
    {
      "cell_type": "markdown",
      "metadata": {
        "id": "PEVHNW2we9aA"
      },
      "source": [
        "## From Sales to Data Science\n",
        "***\n",
        "Discover the story of Sagar Dawda who made a successful transition from Sales to Data Science. Making a successful switch to Data Science is a game of Decision and Determenination. But it's a long road from Decision to Determination. To read more, click <a href=\"https://greyatom.com/blog/2018/03/career-transition-decision-to-determination/\">here</a> "
      ]
    },
    {
      "cell_type": "markdown",
      "metadata": {
        "id": "WiluC857e9aA"
      },
      "source": [
        "#  CHAPTER - 2 : Data Types & Data Structures\n",
        "***\n",
        "- Everything in Python is an \"object\", including integers/floats\n",
        "- Most common and important types (classes)\n",
        "    - \"Single value\": None, int, float, bool, str, complex\n",
        "    - \"Multiple values\": list, tuple, set, dict\n",
        "\n",
        "\n",
        "- Single/Multiple isn't a real distinction, this is for explanation\n",
        "- There are many others, but these are most frequently used"
      ]
    },
    {
      "cell_type": "markdown",
      "metadata": {
        "id": "FSgnUGNYe9aB"
      },
      "source": [
        "### Identifying Data Types\n"
      ]
    },
    {
      "cell_type": "code",
      "metadata": {
        "ExecuteTime": {
          "end_time": "2017-09-25T05:47:32.052311Z",
          "start_time": "2017-09-25T05:47:32.041864Z"
        },
        "id": "W34FEhqLe9aB",
        "colab": {
          "base_uri": "https://localhost:8080/"
        },
        "outputId": "539e7ef8-ab9b-41f6-8aa9-1b6fd1e9faa6"
      },
      "source": [
        "a = 42\n",
        "b = 32.30\n",
        "\n",
        "print(type(a))#gets type of a\n",
        "print(type(b))#gets type of b"
      ],
      "execution_count": 34,
      "outputs": [
        {
          "output_type": "stream",
          "text": [
            "<class 'int'>\n",
            "<class 'float'>\n"
          ],
          "name": "stdout"
        }
      ]
    },
    {
      "cell_type": "markdown",
      "metadata": {
        "id": "-Qo-EOZPe9aB"
      },
      "source": [
        "<img src=\"https://github.com/mockingmoon/26-Weeks-Of-Data-Science/blob/master/Week-01-Git_%26_Python_intro/images/icon/Technical-Stuff.png?raw=1\" alt=\"Technical-Stuff\" style=\"width: 100px;float:left; margin-right:15px\"/>\n",
        "<br />\n",
        "\n",
        "### Single Value Types\n",
        "***\n",
        "- int: Integers\n",
        "- float: Floating point numbers\n",
        "- bool: Boolean values (True, False)\n",
        "- complex: Complex numbers\n",
        "- str: String"
      ]
    },
    {
      "cell_type": "markdown",
      "metadata": {
        "id": "QUr8LHTGe9aB"
      },
      "source": [
        "<img src=\"https://github.com/mockingmoon/26-Weeks-Of-Data-Science/blob/master/Week-01-Git_%26_Python_intro/images/icon/Technical-Stuff.png?raw=1\" alt=\"Technical-Stuff\" style=\"width: 100px;float:left; margin-right:15px\"/>\n",
        "<br />\n",
        "\n",
        "## Lists\n",
        "***\n",
        "Lists can be thought of the most general version of a *sequence* in Python. Unlike strings, they are mutable, meaning the elements inside a list can be changed!\n",
        "\n",
        "In this section we will learn about:\n",
        "    \n",
        "    1.) Creating lists\n",
        "    2.) Indexing and Slicing Lists\n",
        "    3.) Basic List Methods\n",
        "    4.) Nesting Lists\n",
        "    5.) Introduction to List Comprehensions\n",
        "\n",
        "Lists are constructed with brackets [] and commas separating every element in the list.\n",
        "\n",
        "Let's go ahead and see how we can construct lists!"
      ]
    },
    {
      "cell_type": "code",
      "metadata": {
        "id": "kMayVaOse9aB"
      },
      "source": [
        "# Assign a list to an variable named my_list\n",
        "my_list = [1,2,3]"
      ],
      "execution_count": 35,
      "outputs": []
    },
    {
      "cell_type": "markdown",
      "metadata": {
        "id": "VpbJPfxBe9aB"
      },
      "source": [
        "We just created a list of integers, but lists can actually hold different object types. For example:"
      ]
    },
    {
      "cell_type": "code",
      "metadata": {
        "id": "TpE_jUose9aC"
      },
      "source": [
        "my_list = ['A string',23,100.232,'o']"
      ],
      "execution_count": 36,
      "outputs": []
    },
    {
      "cell_type": "markdown",
      "metadata": {
        "id": "lsK6DsUme9aC"
      },
      "source": [
        "Just like strings, the len() function will tell you how many items are in the sequence of the list."
      ]
    },
    {
      "cell_type": "code",
      "metadata": {
        "id": "OSt2EM2Be9aC",
        "colab": {
          "base_uri": "https://localhost:8080/"
        },
        "outputId": "cb04f0e4-3ddf-4bde-c1af-21f06d352684"
      },
      "source": [
        "len(my_list)"
      ],
      "execution_count": 37,
      "outputs": [
        {
          "output_type": "execute_result",
          "data": {
            "text/plain": [
              "4"
            ]
          },
          "metadata": {
            "tags": []
          },
          "execution_count": 37
        }
      ]
    },
    {
      "cell_type": "markdown",
      "metadata": {
        "id": "442C_bdCe9aC"
      },
      "source": [
        "<img src=\"https://github.com/mockingmoon/26-Weeks-Of-Data-Science/blob/master/Week-01-Git_%26_Python_intro/images/icon/Technical-Stuff.png?raw=1\" alt=\"Technical-Stuff\" style=\"width: 100px;float:left; margin-right:15px\"/>\n",
        "<br />\n",
        "\n",
        "### Adding New Elements to a list\n",
        "***\n",
        "We use two special commands to add new elements to a list. Let's make a new list to remind ourselves of how this works:"
      ]
    },
    {
      "cell_type": "code",
      "metadata": {
        "id": "85rAROWFe9aC"
      },
      "source": [
        "my_list = ['one','two','three',4,5]"
      ],
      "execution_count": 38,
      "outputs": []
    },
    {
      "cell_type": "code",
      "metadata": {
        "ExecuteTime": {
          "end_time": "2017-09-25T05:47:35.345981Z",
          "start_time": "2017-09-25T05:47:35.338482Z"
        },
        "id": "JiTOS3dKe9aD",
        "colab": {
          "base_uri": "https://localhost:8080/"
        },
        "outputId": "4217550b-641b-4727-e666-0c38da0f45e0"
      },
      "source": [
        "# append a value to the end of the list\n",
        "l = [1, 2.3, ['a', 'b'], 'New York']\n",
        "l.append(3.1)\n",
        "print(l)"
      ],
      "execution_count": 39,
      "outputs": [
        {
          "output_type": "stream",
          "text": [
            "[1, 2.3, ['a', 'b'], 'New York', 3.1]\n"
          ],
          "name": "stdout"
        }
      ]
    },
    {
      "cell_type": "code",
      "metadata": {
        "ExecuteTime": {
          "end_time": "2017-09-25T05:47:36.261839Z",
          "start_time": "2017-09-25T05:47:36.253351Z"
        },
        "id": "7V6_5p1oe9aD",
        "colab": {
          "base_uri": "https://localhost:8080/"
        },
        "outputId": "22eed103-a690-40be-b637-6440c4acf3e0"
      },
      "source": [
        "# extend a list with another list. \n",
        "l = [1, 2, 3]\n",
        "l.extend([4, 5, 6])\n",
        "print(l)"
      ],
      "execution_count": 40,
      "outputs": [
        {
          "output_type": "stream",
          "text": [
            "[1, 2, 3, 4, 5, 6]\n"
          ],
          "name": "stdout"
        }
      ]
    },
    {
      "cell_type": "markdown",
      "metadata": {
        "ExecuteTime": {
          "end_time": "2017-09-19T11:49:42.542856Z",
          "start_time": "2017-09-19T11:49:42.534053Z"
        },
        "id": "tvqKIjCge9aD"
      },
      "source": [
        "<img src=\"https://github.com/mockingmoon/26-Weeks-Of-Data-Science/blob/master/Week-01-Git_%26_Python_intro/images/icon/Technical-Stuff.png?raw=1\" alt=\"Technical-Stuff\" style=\"width: 100px;float:left; margin-right:15px\"/>\n",
        "<br />\n",
        "\n",
        "## Slicing\n",
        "***\n",
        "Slicing is used to access individual elements or a rage of elements in a list. \n",
        "\n",
        "Python supports \"slicing\" indexable sequences. The syntax for slicing lists is:\n",
        "\n",
        "- `list_object[start:end:step]` or\n",
        "- `list_object[start:end]`\n",
        "\n",
        "start and end are indices (start inclusive, end exclusive). All slicing values are optional."
      ]
    },
    {
      "cell_type": "code",
      "metadata": {
        "ExecuteTime": {
          "end_time": "2017-09-25T05:47:39.225276Z",
          "start_time": "2017-09-25T05:47:39.204399Z"
        },
        "id": "iCUpFSkte9aD",
        "colab": {
          "base_uri": "https://localhost:8080/"
        },
        "outputId": "1c51848d-2d30-42f6-d8ce-67c14ac7a6e9"
      },
      "source": [
        "lst = list(range(10)) # create a list containing 10 numbers starting from 0 \n",
        "print(lst)\n",
        "\n",
        "print(\"elements from index 4 to 7:\", lst[4:7])\n",
        "print(\"alternate elements, starting at index 0:\", lst[0::2]) # prints elements from index 0 till last index with a step of 2\n",
        "print(\"every third element, starting at index 1:\", lst[1::3]) # prints elements from index 1 till last index with a step of 3\n"
      ],
      "execution_count": 41,
      "outputs": [
        {
          "output_type": "stream",
          "text": [
            "[0, 1, 2, 3, 4, 5, 6, 7, 8, 9]\n",
            "elements from index 4 to 7: [4, 5, 6]\n",
            "alternate elements, starting at index 0: [0, 2, 4, 6, 8]\n",
            "every third element, starting at index 1: [1, 4, 7]\n"
          ],
          "name": "stdout"
        }
      ]
    },
    {
      "cell_type": "markdown",
      "metadata": {
        "id": "AJbHbsYWe9aD"
      },
      "source": [
        "<div class=\"alert alert-block alert-success\">**Other `list` operations**</div>\n",
        "\n",
        "***\n",
        "- **`.append`**: add element to end of list\n",
        "- **`.insert`**: insert element at given index\n",
        "- **`.extend`**: extend one list with another list"
      ]
    },
    {
      "cell_type": "markdown",
      "metadata": {
        "id": "K_CfVB0Ze9aD"
      },
      "source": [
        "# Did you know?\n",
        "\n",
        "**Did you know that Japanese Anime Naruto is related to Data Science. Find out how**\n",
        "\n",
        "<img src=\"https://greyatom.com/blog/wp-content/uploads/2017/06/naruto-1-701x321.png\">\n",
        "\n",
        "\n",
        "Find out here https://medium.com/greyatom/naruto-and-data-science-how-data-science-is-an-art-and-data-scientist-an-artist-c5f16a68d670"
      ]
    },
    {
      "cell_type": "code",
      "metadata": {
        "id": "FRwQLjfRe9aE"
      },
      "source": [
        ""
      ],
      "execution_count": null,
      "outputs": []
    },
    {
      "cell_type": "markdown",
      "metadata": {
        "id": "MU_iQF3He9aE"
      },
      "source": [
        "<img src=\"https://github.com/mockingmoon/26-Weeks-Of-Data-Science/blob/master/Week-01-Git_%26_Python_intro/images/icon/Technical-Stuff.png?raw=1\" alt=\"Technical-Stuff\" style=\"width: 100px;float:left; margin-right:15px\"/>\n",
        "<br />\n",
        "\n",
        "# Dictionaries\n",
        "***\n",
        "Now we're going to switch gears and learn about *mappings* called *dictionaries* in Python. If you're familiar with other languages you can think of these Dictionaries as hash tables. \n",
        "\n",
        "This section will serve as a brief introduction to dictionaries and consist of:\n",
        "\n",
        "    1.) Constructing a Dictionary\n",
        "    2.) Accessing objects from a dictionary\n",
        "    3.) Nesting Dictionaries\n",
        "    4.) Basic Dictionary Methods\n",
        "    \n",
        "A Python dictionary consists of a key and then an associated value. That value can be almost any Python object."
      ]
    },
    {
      "cell_type": "markdown",
      "metadata": {
        "id": "IdCQF4mpe9aE"
      },
      "source": [
        "## Constructing a Dictionary\n",
        "***\n",
        "Let's see how we can construct dictionaries to get a better understanding of how they work!"
      ]
    },
    {
      "cell_type": "code",
      "metadata": {
        "id": "HLmnMmwBe9aE"
      },
      "source": [
        "# Make a dictionary with {} and : to signify a key and a value\n",
        "my_dict = {'key1':'value1','key2':'value2'}"
      ],
      "execution_count": 42,
      "outputs": []
    },
    {
      "cell_type": "code",
      "metadata": {
        "id": "nb87V7Yce9aE",
        "colab": {
          "base_uri": "https://localhost:8080/",
          "height": 35
        },
        "outputId": "0b746e42-ed70-4ae8-e008-ba96ea1d1edf"
      },
      "source": [
        "# Call values by their key\n",
        "my_dict['key2']"
      ],
      "execution_count": 43,
      "outputs": [
        {
          "output_type": "execute_result",
          "data": {
            "application/vnd.google.colaboratory.intrinsic+json": {
              "type": "string"
            },
            "text/plain": [
              "'value2'"
            ]
          },
          "metadata": {
            "tags": []
          },
          "execution_count": 43
        }
      ]
    },
    {
      "cell_type": "markdown",
      "metadata": {
        "id": "0qZWyrDNe9aE"
      },
      "source": [
        "We can effect the values of a key as well. For instance:"
      ]
    },
    {
      "cell_type": "code",
      "metadata": {
        "id": "o1bOdZMTe9aE",
        "colab": {
          "base_uri": "https://localhost:8080/"
        },
        "outputId": "c2fd00f1-a991-42ce-e434-6c22135bdaca"
      },
      "source": [
        "my_dict['key1']=123\n",
        "my_dict\n"
      ],
      "execution_count": 44,
      "outputs": [
        {
          "output_type": "execute_result",
          "data": {
            "text/plain": [
              "{'key1': 123, 'key2': 'value2'}"
            ]
          },
          "metadata": {
            "tags": []
          },
          "execution_count": 44
        }
      ]
    },
    {
      "cell_type": "code",
      "metadata": {
        "id": "dWUXxNFJe9aF"
      },
      "source": [
        "# Subtract 123 from the value\n",
        "my_dict['key1'] = my_dict['key1'] - 123"
      ],
      "execution_count": 45,
      "outputs": []
    },
    {
      "cell_type": "code",
      "metadata": {
        "id": "aFVv1e9Ne9aF",
        "colab": {
          "base_uri": "https://localhost:8080/"
        },
        "outputId": "5df50138-16d4-4653-ae10-1dcd8742aa57"
      },
      "source": [
        "#Check\n",
        "my_dict['key1']"
      ],
      "execution_count": 46,
      "outputs": [
        {
          "output_type": "execute_result",
          "data": {
            "text/plain": [
              "0"
            ]
          },
          "metadata": {
            "tags": []
          },
          "execution_count": 46
        }
      ]
    },
    {
      "cell_type": "markdown",
      "metadata": {
        "id": "f4Hs3Ribe9aF"
      },
      "source": [
        "A quick note, Python has a built-in method of doing a self subtraction or addition (or multiplication or division). We could have also used += or -= for the above statement. For example:"
      ]
    },
    {
      "cell_type": "code",
      "metadata": {
        "id": "jYd2FTj4e9aF",
        "colab": {
          "base_uri": "https://localhost:8080/"
        },
        "outputId": "c7281f75-f707-4b1f-f349-6cc8ec58e35f"
      },
      "source": [
        "# Set the object equal to itself minus 123 \n",
        "my_dict['key1'] -= 123\n",
        "my_dict['key1']"
      ],
      "execution_count": 47,
      "outputs": [
        {
          "output_type": "execute_result",
          "data": {
            "text/plain": [
              "-123"
            ]
          },
          "metadata": {
            "tags": []
          },
          "execution_count": 47
        }
      ]
    },
    {
      "cell_type": "markdown",
      "metadata": {
        "id": "aPE_0CQPe9aF"
      },
      "source": [
        "Now its your turn to get hands-on with Dictionary, create a empty dicts. Create a new key calle animal and assign a value 'Dog' to it..\n"
      ]
    },
    {
      "cell_type": "code",
      "metadata": {
        "id": "efd4ZNb5e9aF"
      },
      "source": [
        "# Create a new dictionary\n",
        "d = {}\n",
        "# Create a new key through assignment\n",
        "d['animal'] = 'Dog'"
      ],
      "execution_count": 48,
      "outputs": []
    },
    {
      "cell_type": "markdown",
      "metadata": {
        "ExecuteTime": {
          "end_time": "2017-09-25T05:47:45.662927Z",
          "start_time": "2017-09-25T05:47:45.654794Z"
        },
        "id": "HBfOFke3e9aF"
      },
      "source": [
        "<img src=\"https://github.com/mockingmoon/26-Weeks-Of-Data-Science/blob/master/Week-01-Git_%26_Python_intro/images/icon/Technical-Stuff.png?raw=1\" alt=\"Technical-Stuff\" style=\"width: 100px;float:left; margin-right:15px\"/>\n",
        "<br />\n",
        "\n",
        "# Set and Booleans\n",
        "***\n",
        "There are two other object types in Python that we should quickly cover. Sets and Booleans. \n",
        "\n",
        "## Sets\n",
        "Sets are an unordered collection of *unique* elements. We can construct them by using the set() function. Let's go ahead and make a set to see how it works"
      ]
    },
    {
      "cell_type": "markdown",
      "metadata": {
        "id": "9CPAKNVge9aG"
      },
      "source": [
        "#### Set Theory\n",
        "<img src=\"https://github.com/mockingmoon/26-Weeks-Of-Data-Science/blob/master/Week-01-Git_%26_Python_intro/images/sets2.png?raw=1\" width=\"60%\"/>"
      ]
    },
    {
      "cell_type": "code",
      "metadata": {
        "id": "jBHpOSf8e9aG",
        "colab": {
          "base_uri": "https://localhost:8080/"
        },
        "outputId": "fc9016ae-cfe0-4239-aedf-1baacaa513a8"
      },
      "source": [
        "x = set()\n",
        "\n",
        "# We add to sets with the add() method\n",
        "x.add(1)\n",
        "\n",
        "#Show\n",
        "x"
      ],
      "execution_count": 49,
      "outputs": [
        {
          "output_type": "execute_result",
          "data": {
            "text/plain": [
              "{1}"
            ]
          },
          "metadata": {
            "tags": []
          },
          "execution_count": 49
        }
      ]
    },
    {
      "cell_type": "markdown",
      "metadata": {
        "id": "INNK-h4le9aG"
      },
      "source": [
        "Note the curly brackets. This does not indicate a dictionary! Although you can draw analogies as a set being a dictionary with only keys.\n",
        "\n",
        "We know that a set has only unique entries. So what happens when we try to add something that is already in a set?"
      ]
    },
    {
      "cell_type": "code",
      "metadata": {
        "id": "UDF_jX6Xe9aG",
        "colab": {
          "base_uri": "https://localhost:8080/"
        },
        "outputId": "5730ba30-db1b-4cf6-e728-370e8d580bad"
      },
      "source": [
        "# Add a different element\n",
        "x.add(2)\n",
        "\n",
        "#Show\n",
        "x"
      ],
      "execution_count": 50,
      "outputs": [
        {
          "output_type": "execute_result",
          "data": {
            "text/plain": [
              "{1, 2}"
            ]
          },
          "metadata": {
            "tags": []
          },
          "execution_count": 50
        }
      ]
    },
    {
      "cell_type": "code",
      "metadata": {
        "id": "sk4j9rBte9aG",
        "colab": {
          "base_uri": "https://localhost:8080/"
        },
        "outputId": "c8c91158-1343-4f6d-abfe-eb3ab0b1e4d0"
      },
      "source": [
        "# Try to add the same element\n",
        "x.add(1)\n",
        "\n",
        "#Show\n",
        "x"
      ],
      "execution_count": 51,
      "outputs": [
        {
          "output_type": "execute_result",
          "data": {
            "text/plain": [
              "{1, 2}"
            ]
          },
          "metadata": {
            "tags": []
          },
          "execution_count": 51
        }
      ]
    },
    {
      "cell_type": "markdown",
      "metadata": {
        "id": "VM9l5mtpe9aG"
      },
      "source": [
        "Notice how it won't place another 1 there. That's because a set is only concerned with unique elements! We can cast a list with multiple repeat elements to a set to get the unique elements. For example:"
      ]
    },
    {
      "cell_type": "code",
      "metadata": {
        "id": "cSkYau5Oe9aG"
      },
      "source": [
        "# Create a list with repeats\n",
        "l = [1,1,2,2,3,4,5,6,1,1]"
      ],
      "execution_count": 52,
      "outputs": []
    },
    {
      "cell_type": "code",
      "metadata": {
        "id": "V6bvtFkoe9aH",
        "colab": {
          "base_uri": "https://localhost:8080/"
        },
        "outputId": "c3816c7a-64f0-42ec-87b6-99a6616433f0"
      },
      "source": [
        "# Cast as set to get unique values\n",
        "set(l)"
      ],
      "execution_count": 53,
      "outputs": [
        {
          "output_type": "execute_result",
          "data": {
            "text/plain": [
              "{1, 2, 3, 4, 5, 6}"
            ]
          },
          "metadata": {
            "tags": []
          },
          "execution_count": 53
        }
      ]
    },
    {
      "cell_type": "markdown",
      "metadata": {
        "id": "T_21Ety9e9aH"
      },
      "source": [
        "<img src=\"https://github.com/mockingmoon/26-Weeks-Of-Data-Science/blob/master/Week-01-Git_%26_Python_intro/images/icon/ppt-icons.png?raw=1\" alt=\"ppt-icons\" style=\"width: 100px;float:left; margin-right:15px\"/>\n",
        "<br />\n",
        "\n",
        "### Mini Challenge - 3\n",
        "***\n",
        "Can you access the last element of  a l which is a list."
      ]
    },
    {
      "cell_type": "code",
      "metadata": {
        "id": "hbn7JKE2e9aH",
        "colab": {
          "base_uri": "https://localhost:8080/"
        },
        "outputId": "7f775b90-7fd0-44b4-f109-7a5afea390a0"
      },
      "source": [
        "my_freq = {} # Dict for counting\r\n",
        "set_of_l = set(l)\r\n",
        "print(\"All elements: \"+str(l))\r\n",
        "print(\"Unique elements: \"+str(set_of_l))\r\n",
        "for val in l:\r\n",
        "  if val in my_freq.keys():\r\n",
        "    my_freq[val] += 1\r\n",
        "  else:\r\n",
        "    my_freq[val] = 1\r\n",
        "\r\n",
        "print(\"Frequency of each item is: \")\r\n",
        "print(my_freq)"
      ],
      "execution_count": 59,
      "outputs": [
        {
          "output_type": "stream",
          "text": [
            "All elements: [1, 1, 2, 2, 3, 4, 5, 6, 1, 1]\n",
            "Unique elements: {1, 2, 3, 4, 5, 6}\n",
            "Frequency of each item is: \n",
            "{1: 4, 2: 2, 3: 1, 4: 1, 5: 1, 6: 1}\n"
          ],
          "name": "stdout"
        }
      ]
    },
    {
      "cell_type": "markdown",
      "metadata": {
        "id": "p8R7gGPVe9aH"
      },
      "source": [
        "# CHAPTER - 3 : Python Programming Constructs\n",
        "***\n",
        "We'll be talking about\n",
        "- Looping\n",
        "- Conditional Statements\n",
        "- Comprehensions"
      ]
    },
    {
      "cell_type": "markdown",
      "metadata": {
        "id": "AeYpQxTee9aH"
      },
      "source": [
        "<img src=\"https://github.com/mockingmoon/26-Weeks-Of-Data-Science/blob/master/Week-01-Git_%26_Python_intro/images/icon/Technical-Stuff.png?raw=1\" alt=\"Technical-Stuff\" style=\"width: 100px;float:left; margin-right:15px\"/>\n",
        "<br />\n",
        "## Loops  and  Iterative Statements"
      ]
    },
    {
      "cell_type": "markdown",
      "metadata": {
        "id": "bHn9qPf7e9aH"
      },
      "source": [
        "## If,elif,else Statements\n",
        "***\n",
        "if Statements in Python allows us to tell the computer to perform alternative actions based on a certain set of results.\n",
        "\n",
        "Verbally, we can imagine we are telling the computer:\n",
        "\n",
        "\"Hey if this case happens, perform some action\"\n",
        "\n",
        "We can then expand the idea further with elif and else statements, which allow us to tell the computer:\n",
        "\n",
        "\"Hey if this case happens, perform some action. Else if another case happens, perform some other action. Else-- none of the above cases happened, perform this action\"\n",
        "\n",
        "Let's go ahead and look at the syntax format for if statements to get a better idea of this:\n",
        "\n",
        "    if case1:\n",
        "        perform action1\n",
        "    elif case2:\n",
        "        perform action2\n",
        "    else: \n",
        "        perform action 3"
      ]
    },
    {
      "cell_type": "code",
      "metadata": {
        "ExecuteTime": {
          "end_time": "2017-09-25T05:49:17.584649Z",
          "start_time": "2017-09-25T05:49:17.562599Z"
        },
        "id": "29gL4RDre9aH",
        "colab": {
          "base_uri": "https://localhost:8080/"
        },
        "outputId": "0307460e-b8e4-49dc-f960-b516ca65a45a"
      },
      "source": [
        "a = 5\n",
        "b = 4\n",
        "\n",
        "if a > b:\n",
        "    # we are inside the if block\n",
        "    print(\"a is greater than b\")\n",
        "elif b > a:\n",
        "    # we are inside the elif block\n",
        "    print(\"b is greater than a\")\n",
        "else:\n",
        "    # we are inside the else block\n",
        "    print(\"a and b are equal\")\n",
        "\n",
        "# Note: Python doesn't have a switch statement"
      ],
      "execution_count": 60,
      "outputs": [
        {
          "output_type": "stream",
          "text": [
            "a is greater than b\n"
          ],
          "name": "stdout"
        }
      ]
    },
    {
      "cell_type": "markdown",
      "metadata": {
        "id": "O3GBImVZe9aI"
      },
      "source": [
        "<img src=\"https://github.com/mockingmoon/26-Weeks-Of-Data-Science/blob/master/Week-01-Git_%26_Python_intro/images/icon/Warning.png?raw=1\" alt=\"Warning\" style=\"width: 100px;float:left; margin-right:15px\"/>\n",
        "<br />\n",
        "\n",
        "### Indentation\n",
        "***\n",
        "It is important to keep a good understanding of how indentation works in Python to maintain the structure and order of your code. We will touch on this topic again when we start building out functions!"
      ]
    },
    {
      "cell_type": "markdown",
      "metadata": {
        "id": "C6uSZ8O-e9aI"
      },
      "source": [
        "<img src=\"https://github.com/mockingmoon/26-Weeks-Of-Data-Science/blob/master/Week-01-Git_%26_Python_intro/images/icon/Technical-Stuff.png?raw=1\" alt=\"Technical-Stuff\" style=\"width: 100px;float:left; margin-right:15px\"/>\n",
        "<br />\n",
        "\n",
        "# For Loops\n",
        "***\n",
        "A **for** loop acts as an iterator in Python, it goes through items that are in a *sequence* or any other iterable item. Objects that we've learned about that we can iterate over include strings,lists,tuples, and even built in iterables for dictionaries, such as the keys or values.\n",
        "\n",
        "We've already seen the **for** statement a little bit in past lectures but now lets formalize our understanding.\n",
        "\n",
        "Here's the general format for a **for** loop in Python:\n",
        "\n",
        "    for item in object:\n",
        "        statements to do stuff\n",
        "\n",
        "The variable name used for the item is completely up to the coder, so use your best judgment for choosing a name that makes sense and you will be able to understand when revisiting your code. This item name can then be referenced inside you loop, for example if you wanted to use if statements to perform checks.\n",
        "\n",
        "Let's go ahead and work through several example of **for** loops using a variety of data object types.\n"
      ]
    },
    {
      "cell_type": "code",
      "metadata": {
        "id": "YgWAPZT1e9aI",
        "colab": {
          "base_uri": "https://localhost:8080/"
        },
        "outputId": "cbfe3bb7-6025-49fe-f617-3a1517717982"
      },
      "source": [
        "#Simple program to find the even numbers in a list\n",
        "\n",
        "list_1 = [2,4,5,6,8,7,9,10] # Initialised the list\n",
        "\n",
        "for number in list_1:          # Selects one element in list_1 \n",
        "    if number % 2 == 0:        # Checks if it is even. IF even, only then, goes to next step else performs above step and continues iteration\n",
        "        print(number,end=' ')  # prints no if even. end=' ' prints the nos on the same line with a space in between. Try deleting this command & seeing the difference."
      ],
      "execution_count": 61,
      "outputs": [
        {
          "output_type": "stream",
          "text": [
            "2 4 6 8 10 "
          ],
          "name": "stdout"
        }
      ]
    },
    {
      "cell_type": "code",
      "metadata": {
        "id": "P1TsFtEze9aI",
        "colab": {
          "base_uri": "https://localhost:8080/"
        },
        "outputId": "fe96fa76-f1dc-40d4-f563-01cb2caa2401"
      },
      "source": [
        "lst1 = [4, 7, 13, 11, 3, 11, 15]\n",
        "lst2 = []\n",
        "\n",
        "for index, e in enumerate(lst1):\n",
        "    if e == 10:\n",
        "        break\n",
        "    if e < 10:\n",
        "        continue\n",
        "    lst2.append((index, e*e))\n",
        "else:\n",
        "    print(\"out of loop without using break statement\")\n",
        "\n",
        "lst2"
      ],
      "execution_count": 62,
      "outputs": [
        {
          "output_type": "stream",
          "text": [
            "out of loop without using break statement\n"
          ],
          "name": "stdout"
        },
        {
          "output_type": "execute_result",
          "data": {
            "text/plain": [
              "[(2, 169), (3, 121), (5, 121), (6, 225)]"
            ]
          },
          "metadata": {
            "tags": []
          },
          "execution_count": 62
        }
      ]
    },
    {
      "cell_type": "markdown",
      "metadata": {
        "id": "sFz8ORSQe9aI"
      },
      "source": [
        "<img src=\"https://github.com/mockingmoon/26-Weeks-Of-Data-Science/blob/master/Week-01-Git_%26_Python_intro/images/icon/Technical-Stuff.png?raw=1\" alt=\"Technical-Stuff\" style=\"width: 100px;float:left; margin-right:15px\"/>\n",
        "<br />\n",
        "\n",
        "# While loops\n",
        "***\n",
        "The **while** statement in Python is one of most general ways to perform iteration. A **while** statement will repeatedly execute a single statement or group of statements as long as the condition is true. The reason it is called a 'loop' is because the code statements are looped through over and over again until the condition is no longer met.\n",
        "\n",
        "The general format of a while loop is:\n",
        "\n",
        "    while test:\n",
        "        code statement\n",
        "    else:\n",
        "        final code statements\n",
        "\n",
        "Let’s look at a few simple while loops in action. \n"
      ]
    },
    {
      "cell_type": "code",
      "metadata": {
        "id": "0OBCvdMBe9aJ",
        "colab": {
          "base_uri": "https://localhost:8080/"
        },
        "outputId": "4546d5f7-24a7-43d5-d52c-8f9e6184b9b7"
      },
      "source": [
        "x = 0\n",
        "\n",
        "while x < 10:\n",
        "    print ('x is currently: ',x,end=' ') #end=' ' to put print below statement on the same line after thsi statement\n",
        "    print (' x is still less than 10, adding 1 to x')\n",
        "    x+=1"
      ],
      "execution_count": 63,
      "outputs": [
        {
          "output_type": "stream",
          "text": [
            "x is currently:  0  x is still less than 10, adding 1 to x\n",
            "x is currently:  1  x is still less than 10, adding 1 to x\n",
            "x is currently:  2  x is still less than 10, adding 1 to x\n",
            "x is currently:  3  x is still less than 10, adding 1 to x\n",
            "x is currently:  4  x is still less than 10, adding 1 to x\n",
            "x is currently:  5  x is still less than 10, adding 1 to x\n",
            "x is currently:  6  x is still less than 10, adding 1 to x\n",
            "x is currently:  7  x is still less than 10, adding 1 to x\n",
            "x is currently:  8  x is still less than 10, adding 1 to x\n",
            "x is currently:  9  x is still less than 10, adding 1 to x\n"
          ],
          "name": "stdout"
        }
      ]
    },
    {
      "cell_type": "markdown",
      "metadata": {
        "id": "CYOZqHdFe9aJ"
      },
      "source": [
        "<img src=\"https://github.com/mockingmoon/26-Weeks-Of-Data-Science/blob/master/Week-01-Git_%26_Python_intro/images/icon/Technical-Stuff.png?raw=1\" alt=\"Technical-Stuff\" style=\"width: 100px;float:left; margin-right:15px\"/>\n",
        "<br />\n",
        "\n",
        "## Comprehensions\n",
        "***\n",
        "- Python provides syntactic sugar to write small loops to generate lists/sets/tuples/dicts in one line\n",
        "- These are called comprehensions, and can greatly increase development speed and readability\n",
        "\n",
        "Syntax:\n",
        "```\n",
        "    sequence = [expression(element) for element in iterable if condition]\n",
        "```\n",
        "\n",
        "The brackets used for creating the comprehension define what type of object is created.\n",
        "\n",
        "Use **[ ]** for lists, **()** for _generators_, **{}** for sets and dicts"
      ]
    },
    {
      "cell_type": "markdown",
      "metadata": {
        "collapsed": true,
        "id": "7F0nkLCHe9aJ"
      },
      "source": [
        "### `list` Comprehension"
      ]
    },
    {
      "cell_type": "code",
      "metadata": {
        "ExecuteTime": {
          "end_time": "2017-09-25T05:49:22.607807Z",
          "start_time": "2017-09-25T05:49:22.597985Z"
        },
        "id": "-50uT8uMe9aJ",
        "colab": {
          "base_uri": "https://localhost:8080/"
        },
        "outputId": "eff6e3d7-cb3c-44a6-bd58-d3a39dd1a0f1"
      },
      "source": [
        "names = [\"Ravi\", \"Pooja\", \"Vijay\", \"Kiran\"]\n",
        "hello = [\"Hello \" + name for name in names]\n",
        "print(hello)"
      ],
      "execution_count": 64,
      "outputs": [
        {
          "output_type": "stream",
          "text": [
            "['Hello Ravi', 'Hello Pooja', 'Hello Vijay', 'Hello Kiran']\n"
          ],
          "name": "stdout"
        }
      ]
    },
    {
      "cell_type": "code",
      "metadata": {
        "ExecuteTime": {
          "end_time": "2017-09-25T05:49:23.279810Z",
          "start_time": "2017-09-25T05:49:23.266368Z"
        },
        "id": "MI8BoK6ne9aJ",
        "colab": {
          "base_uri": "https://localhost:8080/"
        },
        "outputId": "e6f07e5f-8ede-4b65-d6a9-84cead7481e0"
      },
      "source": [
        "numbers = [55, 32, 87, 99, 10, 54, 32]\n",
        "even = [num for num in numbers if num % 2 == 0]\n",
        "print(even)\n",
        "\n",
        "odd_squares = [(num, num * num) for num in numbers if num % 2 == 1]\n",
        "print(odd_squares)"
      ],
      "execution_count": 65,
      "outputs": [
        {
          "output_type": "stream",
          "text": [
            "[32, 10, 54, 32]\n",
            "[(55, 3025), (87, 7569), (99, 9801)]\n"
          ],
          "name": "stdout"
        }
      ]
    },
    {
      "cell_type": "markdown",
      "metadata": {
        "id": "Co-YuZw5e9aJ"
      },
      "source": [
        "<img src=\"https://github.com/mockingmoon/26-Weeks-Of-Data-Science/blob/master/Week-01-Git_%26_Python_intro/images/icon/Technical-Stuff.png?raw=1\" alt=\"Technical-Stuff\" style=\"width: 100px;float:left; margin-right:15px\"/>\n",
        "<br />\n",
        "\n",
        "## Exception Handling\n",
        "***\n",
        "#### try and except\n",
        "\n",
        "The basic terminology and syntax used to handle errors in Python is the **try** and **except** statements. The code which can cause an exception to occue is put in the *try* block and the handling of the exception is the implemented in the *except* block of code. The syntax form is:\n",
        "\n",
        "    try:\n",
        "       You do your operations here...\n",
        "       ...\n",
        "    except ExceptionI:\n",
        "       If there is ExceptionI, then execute this block.\n",
        "    except ExceptionII:\n",
        "       If there is ExceptionII, then execute this block.\n",
        "       ...\n",
        "    else:\n",
        "       If there is no exception then execute this block. \n",
        "\n",
        "We can also just check for any exception with just using except: To get a better understanding of all this lets check out an example: We will look at some code that opens and writes a file:"
      ]
    },
    {
      "cell_type": "code",
      "metadata": {
        "ExecuteTime": {
          "end_time": "2017-09-25T05:49:25.844203Z",
          "start_time": "2017-09-25T05:49:25.831637Z"
        },
        "id": "qxkmtDBne9aK",
        "colab": {
          "base_uri": "https://localhost:8080/"
        },
        "outputId": "bdfb2aa5-f3f5-4394-b1db-2058d2e1fcce"
      },
      "source": [
        "try:\n",
        "    x = 1 / 0\n",
        "except ZeroDivisionError:\n",
        "    print('divided by zero')\n",
        "    print('executed when exception occurs')\n",
        "else:\n",
        "    print('executed only when exception does not occur')\n",
        "finally:\n",
        "    print('finally block, always executed')"
      ],
      "execution_count": 66,
      "outputs": [
        {
          "output_type": "stream",
          "text": [
            "divided by zero\n",
            "executed when exception occurs\n",
            "finally block, always executed\n"
          ],
          "name": "stdout"
        }
      ]
    },
    {
      "cell_type": "code",
      "metadata": {
        "colab": {
          "base_uri": "https://localhost:8080/"
        },
        "id": "3Vu9IogJkjlW",
        "outputId": "aded1874-75b7-49ee-c8a0-149c4a97657f"
      },
      "source": [
        "try:\r\n",
        "  print(nonexistent_variable)\r\n",
        "except Exception as e:\r\n",
        "  print(\"Something did not go right!\")\r\n",
        "  print(\"Error type: \",type(e))\r\n",
        "  print(\"Error message: \",e)\r\n",
        "finally:\r\n",
        "  print(\"I will always get printed, okay?\")"
      ],
      "execution_count": 71,
      "outputs": [
        {
          "output_type": "stream",
          "text": [
            "Something did not go right!\n",
            "Error type:  <class 'NameError'>\n",
            "Error message:  name 'nonexistent_variable' is not defined\n",
            "I will always get printed, okay?\n"
          ],
          "name": "stdout"
        }
      ]
    },
    {
      "cell_type": "markdown",
      "metadata": {
        "id": "KXIhjG3Ze9aK"
      },
      "source": [
        "<img src=\"https://github.com/mockingmoon/26-Weeks-Of-Data-Science/blob/master/Week-01-Git_%26_Python_intro/images/icon/Concept-Alert.png?raw=1\" alt=\"Concept-Alert\" style=\"width: 100px;float:left; margin-right:15px\"/>\n",
        "<br />\n",
        "\n",
        "## Modules, Packages, and `import`\n",
        "***\n",
        "A module is a collection of functions and variables that have been bundled together in a single file. Module helps us: \n",
        "- Used for code organization, packaging and reusability\n",
        "- Module: A Python file\n",
        "- Package: A folder with an ``__init__.py`` file\n",
        "- Namespace is based on file's directory path\n",
        "\n",
        "Module's are usually organised around a theme. Let's see how to use a module. To access our module we will import it using python's import statement. Math module provides access to the mathematical functions. "
      ]
    },
    {
      "cell_type": "code",
      "metadata": {
        "ExecuteTime": {
          "end_time": "2017-09-25T05:46:46.840463Z",
          "start_time": "2017-09-25T05:46:46.832495Z"
        },
        "id": "cWd_Pbmhe9aK",
        "colab": {
          "base_uri": "https://localhost:8080/"
        },
        "outputId": "aee243f5-dc46-4c1b-c9b9-f8a4c79d5966"
      },
      "source": [
        "# import the math module\n",
        "import math\n",
        "\n",
        "# use the log10 function in the math module\n",
        "math.log2(123)"
      ],
      "execution_count": 76,
      "outputs": [
        {
          "output_type": "execute_result",
          "data": {
            "text/plain": [
              "6.94251450533924"
            ]
          },
          "metadata": {
            "tags": []
          },
          "execution_count": 76
        }
      ]
    },
    {
      "cell_type": "markdown",
      "metadata": {
        "ExecuteTime": {
          "end_time": "2017-09-19T10:03:27.500870Z",
          "start_time": "2017-09-19T10:03:27.495827Z"
        },
        "id": "D2p8sSK6e9aK"
      },
      "source": [
        "<img src=\"https://github.com/mockingmoon/26-Weeks-Of-Data-Science/blob/master/Week-01-Git_%26_Python_intro/images/icon/Technical-Stuff.png?raw=1\" alt=\"Concept-Alert\" style=\"width: 100px;float:left; margin-right:15px\"/>\n",
        "<br /> \n",
        "\n",
        "## File I/O : Helps you read your files\n",
        "***\n",
        "- Python provides a `file` object to read text/binary files.\n",
        "- This is similar to the `FileStream` object in other languages.\n",
        "- Since a `file` is a resource, it must be closed after use. This can be done manually, or using a context manager (**`with`** statement)"
      ]
    },
    {
      "cell_type": "markdown",
      "metadata": {
        "id": "sM_2EzGhe9aK"
      },
      "source": [
        "<div class=\"alert alert-block alert-info\">Create a file in the current directory</div>"
      ]
    },
    {
      "cell_type": "code",
      "metadata": {
        "ExecuteTime": {
          "end_time": "2017-09-25T05:46:48.444281Z",
          "start_time": "2017-09-25T05:46:48.404481Z"
        },
        "id": "fsd7A7O1e9aK",
        "colab": {
          "base_uri": "https://localhost:8080/"
        },
        "outputId": "81290519-361a-4e61-ae94-fdb75e657a8e"
      },
      "source": [
        "with open('myfile.txt', 'w') as f:\n",
        "    f.write(\"This is my first file!\\n\")\n",
        "    f.write(\"Second line!\\n\")\n",
        "    f.write(\"Last line!\\n\")\n",
        "\n",
        "\n",
        "# let's verify if it was really created.\n",
        "# For that, let's find out which directory we're working from\n",
        "%ls\n",
        "# import os\n",
        "# print(os.path.abspath(os.curdir))"
      ],
      "execution_count": 77,
      "outputs": [
        {
          "output_type": "stream",
          "text": [
            "myfile.txt  \u001b[0m\u001b[01;34msample_data\u001b[0m/\n"
          ],
          "name": "stdout"
        }
      ]
    },
    {
      "cell_type": "markdown",
      "metadata": {
        "id": "Y8MXtTBBe9aK"
      },
      "source": [
        "<div class=\"alert alert-block alert-info\">Read the newly created file</div>"
      ]
    },
    {
      "cell_type": "code",
      "metadata": {
        "ExecuteTime": {
          "end_time": "2017-09-21T07:13:26.917607Z",
          "start_time": "2017-09-21T07:13:26.909666Z"
        },
        "id": "w2k44p03e9aL",
        "colab": {
          "base_uri": "https://localhost:8080/"
        },
        "outputId": "476d7277-422f-4b8f-c3b1-c2dfa7828bd8"
      },
      "source": [
        "# read the file we just created\n",
        "with open('myfile.txt', 'r') as f:\n",
        "    for line in f:\n",
        "        print(line)\n"
      ],
      "execution_count": 78,
      "outputs": [
        {
          "output_type": "stream",
          "text": [
            "This is my first file!\n",
            "\n",
            "Second line!\n",
            "\n",
            "Last line!\n",
            "\n"
          ],
          "name": "stdout"
        }
      ]
    },
    {
      "cell_type": "markdown",
      "metadata": {
        "id": "3EBvz8n_e9aL"
      },
      "source": [
        "<img src=\"https://github.com/mockingmoon/26-Weeks-Of-Data-Science/blob/master/Week-01-Git_%26_Python_intro/images/icon/ppt-icons.png?raw=1\" alt=\"ppt-icons\" style=\"width: 100px;float:left; margin-right:15px\"/>\n",
        "<br />\n",
        "\n",
        "### Mini Challenge - 4\n",
        "***\n",
        "Can you compute the square of a number assigned to a variable a using the math module?"
      ]
    },
    {
      "cell_type": "code",
      "metadata": {
        "id": "DpJm_kBee9aL",
        "colab": {
          "base_uri": "https://localhost:8080/"
        },
        "outputId": "f76dd09f-6577-451b-846b-5d4b90d39746"
      },
      "source": [
        "try:\r\n",
        "  import math #already imported\r\n",
        "  sq = math.pow(a,2)\r\n",
        "  print(\"Square of \",a,\" is \",sq,\".\")\r\n",
        "except Exception as err:\r\n",
        "  print(\"Wait a minute, there was an error:\")\r\n",
        "  print(type(err))\r\n",
        "  print(err)"
      ],
      "execution_count": 80,
      "outputs": [
        {
          "output_type": "stream",
          "text": [
            "Square of  5  is  25.0 .\n"
          ],
          "name": "stdout"
        }
      ]
    },
    {
      "cell_type": "markdown",
      "metadata": {
        "id": "oMJeTdcWe9aL"
      },
      "source": [
        "<img src=\"https://github.com/mockingmoon/26-Weeks-Of-Data-Science/blob/master/Week-01-Git_%26_Python_intro/images/icon/ppt-icons.png?raw=1\" alt=\"ppt-icons\" style=\"width: 100px;float:left; margin-right:15px\"/>\n",
        "<br />\n",
        "\n",
        "### Mini Challenge - 5\n",
        "***\n",
        "Can you create a list of 10 numbers iterate through the list and print the square of each number ?"
      ]
    },
    {
      "cell_type": "code",
      "metadata": {
        "id": "GLUNMyURe9aL",
        "colab": {
          "base_uri": "https://localhost:8080/"
        },
        "outputId": "e7df78c6-34ad-48c8-f97a-2280b659676f"
      },
      "source": [
        "print([ i*i for i in range(10)])"
      ],
      "execution_count": 81,
      "outputs": [
        {
          "output_type": "stream",
          "text": [
            "[0, 1, 4, 9, 16, 25, 36, 49, 64, 81]\n"
          ],
          "name": "stdout"
        }
      ]
    },
    {
      "cell_type": "markdown",
      "metadata": {
        "id": "DQ-KPx9Xe9aL"
      },
      "source": [
        "# Further Reading\n",
        "\n",
        "- Official Python Documentation: https://docs.python.org/"
      ]
    },
    {
      "cell_type": "markdown",
      "metadata": {
        "id": "dvD7gLbTe9aL"
      },
      "source": [
        "<img src=\"https://github.com/mockingmoon/26-Weeks-Of-Data-Science/blob/master/Week-01-Git_%26_Python_intro/images/icon/Recap.png?raw=1\" alt=\"Recap\" style=\"width: 100px;float:left; margin-right:15px\"/>\n",
        "<br />\n",
        "\n",
        "# In-session Recap Time\n",
        "***\n",
        "* Python Basics\n",
        "    * Variables and Scoping\n",
        "    * Modules, Packages and Imports\n",
        "    * Data Types & Data Structures\n",
        "    * Python Programming Constructs\n",
        "* Data Types & Data Structures\n",
        "    * Lists\n",
        "    * Dictionaries\n",
        "    * Sets & Booleans\n",
        "* Python Prograamming constructs\n",
        "    * Loops and Conditional Statements\n",
        "    * Exception Handling\n",
        "    * File I/O"
      ]
    },
    {
      "cell_type": "markdown",
      "metadata": {
        "collapsed": true,
        "id": "9lukmrgRe9aM"
      },
      "source": [
        "# Thank You\n",
        "***\n",
        "### Coming up next...\n",
        "\n",
        "- **Python Functions**: How to write modular functions to enable code reuse\n",
        "- **NumPy**: Learn the basis of most numeric computation in Python"
      ]
    }
  ]
}