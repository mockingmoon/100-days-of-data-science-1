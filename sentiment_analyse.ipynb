{
  "nbformat": 4,
  "nbformat_minor": 0,
  "metadata": {
    "colab": {
      "name": "senti-analyse.ipynb",
      "provenance": []
    },
    "kernelspec": {
      "name": "python3",
      "display_name": "Python 3"
    }
  },
  "cells": [
    {
      "cell_type": "code",
      "metadata": {
        "colab": {
          "base_uri": "https://localhost:8080/"
        },
        "id": "KRpjgh5h8Khi",
        "outputId": "cd07df90-f772-40e0-e737-c1f09220eaec"
      },
      "source": [
        "readme = open(\"aclImdb/README\").read()\r\n",
        "print(readme)"
      ],
      "execution_count": null,
      "outputs": [
        {
          "output_type": "stream",
          "text": [
            "Large Movie Review Dataset v1.0\n",
            "\n",
            "Overview\n",
            "\n",
            "This dataset contains movie reviews along with their associated binary\n",
            "sentiment polarity labels. It is intended to serve as a benchmark for\n",
            "sentiment classification. This document outlines how the dataset was\n",
            "gathered, and how to use the files provided. \n",
            "\n",
            "Dataset \n",
            "\n",
            "The core dataset contains 50,000 reviews split evenly into 25k train\n",
            "and 25k test sets. The overall distribution of labels is balanced (25k\n",
            "pos and 25k neg). We also include an additional 50,000 unlabeled\n",
            "documents for unsupervised learning. \n",
            "\n",
            "In the entire collection, no more than 30 reviews are allowed for any\n",
            "given movie because reviews for the same movie tend to have correlated\n",
            "ratings. Further, the train and test sets contain a disjoint set of\n",
            "movies, so no significant performance is obtained by memorizing\n",
            "movie-unique terms and their associated with observed labels.  In the\n",
            "labeled train/test sets, a negative review has a score <= 4 out of 10,\n",
            "and a positive review has a score >= 7 out of 10. Thus reviews with\n",
            "more neutral ratings are not included in the train/test sets. In the\n",
            "unsupervised set, reviews of any rating are included and there are an\n",
            "even number of reviews > 5 and <= 5.\n",
            "\n",
            "Files\n",
            "\n",
            "There are two top-level directories [train/, test/] corresponding to\n",
            "the training and test sets. Each contains [pos/, neg/] directories for\n",
            "the reviews with binary labels positive and negative. Within these\n",
            "directories, reviews are stored in text files named following the\n",
            "convention [[id]_[rating].txt] where [id] is a unique id and [rating] is\n",
            "the star rating for that review on a 1-10 scale. For example, the file\n",
            "[test/pos/200_8.txt] is the text for a positive-labeled test set\n",
            "example with unique id 200 and star rating 8/10 from IMDb. The\n",
            "[train/unsup/] directory has 0 for all ratings because the ratings are\n",
            "omitted for this portion of the dataset.\n",
            "\n",
            "We also include the IMDb URLs for each review in a separate\n",
            "[urls_[pos, neg, unsup].txt] file. A review with unique id 200 will\n",
            "have its URL on line 200 of this file. Due the ever-changing IMDb, we\n",
            "are unable to link directly to the review, but only to the movie's\n",
            "review page.\n",
            "\n",
            "In addition to the review text files, we include already-tokenized bag\n",
            "of words (BoW) features that were used in our experiments. These \n",
            "are stored in .feat files in the train/test directories. Each .feat\n",
            "file is in LIBSVM format, an ascii sparse-vector format for labeled\n",
            "data.  The feature indices in these files start from 0, and the text\n",
            "tokens corresponding to a feature index is found in [imdb.vocab]. So a\n",
            "line with 0:7 in a .feat file means the first word in [imdb.vocab]\n",
            "(the) appears 7 times in that review.\n",
            "\n",
            "LIBSVM page for details on .feat file format:\n",
            "http://www.csie.ntu.edu.tw/~cjlin/libsvm/\n",
            "\n",
            "We also include [imdbEr.txt] which contains the expected rating for\n",
            "each token in [imdb.vocab] as computed by (Potts, 2011). The expected\n",
            "rating is a good way to get a sense for the average polarity of a word\n",
            "in the dataset.\n",
            "\n",
            "Citing the dataset\n",
            "\n",
            "When using this dataset please cite our ACL 2011 paper which\n",
            "introduces it. This paper also contains classification results which\n",
            "you may want to compare against.\n",
            "\n",
            "\n",
            "@InProceedings{maas-EtAl:2011:ACL-HLT2011,\n",
            "  author    = {Maas, Andrew L.  and  Daly, Raymond E.  and  Pham, Peter T.  and  Huang, Dan  and  Ng, Andrew Y.  and  Potts, Christopher},\n",
            "  title     = {Learning Word Vectors for Sentiment Analysis},\n",
            "  booktitle = {Proceedings of the 49th Annual Meeting of the Association for Computational Linguistics: Human Language Technologies},\n",
            "  month     = {June},\n",
            "  year      = {2011},\n",
            "  address   = {Portland, Oregon, USA},\n",
            "  publisher = {Association for Computational Linguistics},\n",
            "  pages     = {142--150},\n",
            "  url       = {http://www.aclweb.org/anthology/P11-1015}\n",
            "}\n",
            "\n",
            "References\n",
            "\n",
            "Potts, Christopher. 2011. On the negativity of negation. In Nan Li and\n",
            "David Lutz, eds., Proceedings of Semantics and Linguistic Theory 20,\n",
            "636-659.\n",
            "\n",
            "Contact\n",
            "\n",
            "For questions/comments/corrections please contact Andrew Maas\n",
            "amaas@cs.stanford.edu\n",
            "\n"
          ],
          "name": "stdout"
        }
      ]
    },
    {
      "cell_type": "code",
      "metadata": {
        "colab": {
          "base_uri": "https://localhost:8080/"
        },
        "id": "XXptpLVJ6_XY",
        "outputId": "d41e03cf-1f9d-4a60-ad8a-72f878d15ea9"
      },
      "source": [
        "!wget \"http://ai.stanford.edu/~amaas/data/sentiment/aclImdb_v1.tar.gz\""
      ],
      "execution_count": null,
      "outputs": [
        {
          "output_type": "stream",
          "text": [
            "--2020-12-19 16:54:00--  http://ai.stanford.edu/~amaas/data/sentiment/aclImdb_v1.tar.gz\n",
            "Resolving ai.stanford.edu (ai.stanford.edu)... 171.64.68.10\n",
            "Connecting to ai.stanford.edu (ai.stanford.edu)|171.64.68.10|:80... connected.\n",
            "HTTP request sent, awaiting response... 200 OK\n",
            "Length: 84125825 (80M) [application/x-gzip]\n",
            "Saving to: ‘aclImdb_v1.tar.gz’\n",
            "\n",
            "aclImdb_v1.tar.gz   100%[===================>]  80.23M  18.2MB/s    in 11s     \n",
            "\n",
            "2020-12-19 16:54:11 (7.47 MB/s) - ‘aclImdb_v1.tar.gz’ saved [84125825/84125825]\n",
            "\n"
          ],
          "name": "stdout"
        }
      ]
    },
    {
      "cell_type": "code",
      "metadata": {
        "colab": {
          "base_uri": "https://localhost:8080/"
        },
        "id": "ypD_fBoT7F1G",
        "outputId": "c8f0c043-dbc2-4010-9485-10bc71e4b4b9"
      },
      "source": [
        "%ls"
      ],
      "execution_count": null,
      "outputs": [
        {
          "output_type": "stream",
          "text": [
            "aclImdb_v1.tar.gz  \u001b[0m\u001b[01;34msample_data\u001b[0m/  sentidb  sentidb.tar.gz\n"
          ],
          "name": "stdout"
        }
      ]
    },
    {
      "cell_type": "code",
      "metadata": {
        "id": "YzSRE8XZ7iOd"
      },
      "source": [
        "!sudo tar -xvf aclImdb_v1.tar.gz"
      ],
      "execution_count": null,
      "outputs": []
    },
    {
      "cell_type": "code",
      "metadata": {
        "id": "s8dnY40Q9WCU"
      },
      "source": [
        "import pandas as pd\r\n",
        "import numpy as np\r\n",
        "from sklearn.metrics import accuracy_score, confusion_matrix\r\n",
        "from sklearn.feature_extraction.text import TfidfVectorizer\r\n",
        "from sklearn.naive_bayes import GaussianNB"
      ],
      "execution_count": null,
      "outputs": []
    },
    {
      "cell_type": "code",
      "metadata": {
        "id": "RaJ0Kqxq_wu_"
      },
      "source": [
        "import os"
      ],
      "execution_count": null,
      "outputs": []
    },
    {
      "cell_type": "code",
      "metadata": {
        "colab": {
          "base_uri": "https://localhost:8080/"
        },
        "id": "fj7UjPXy-BPc",
        "outputId": "8764728c-1473-4706-eec3-ff1e7addb33a"
      },
      "source": [
        "pospath = \"aclImdb/train/pos\"\r\n",
        "train_pos_files = os.listdir(pospath)\r\n",
        "print(train_pos_files[:10])"
      ],
      "execution_count": null,
      "outputs": [
        {
          "output_type": "stream",
          "text": [
            "['1532_10.txt', '742_9.txt', '11346_10.txt', '5597_10.txt', '6637_8.txt', '7922_7.txt', '9943_7.txt', '9822_10.txt', '7928_10.txt', '1612_10.txt']\n"
          ],
          "name": "stdout"
        }
      ]
    },
    {
      "cell_type": "code",
      "metadata": {
        "colab": {
          "base_uri": "https://localhost:8080/"
        },
        "id": "mT9Zb9z6BJRF",
        "outputId": "ae7668fd-4e52-45a1-ac25-6ef7f4cb683b"
      },
      "source": [
        "  mytemp = open(pospath+\"/\"+train_pos_files[0]).read()\r\n",
        "  print(mytemp)\r\n",
        "  temprating = int((train_pos_files[0].split('_')[1]).split('.')[0])\r\n",
        "  print(temprating)"
      ],
      "execution_count": null,
      "outputs": [
        {
          "output_type": "stream",
          "text": [
            "This, like Murder She Wrote, is one of those shows, that after a stressful day at school, I sit down in front of the TV, and watch. Why? Because I genuinely enjoy it, and it's a shame it's not on the air anymore. Dick Van Dyke is amazing as Dr Mark Sloan, a doctor-turned-detective, who with his son, solves murders. He is joined by a largely unknown but very competent supporting cast, namely his real-life son, Barry Van Dyke. Victoria Rowell is also good, but I noticed that every series her hairstyle changes. i also liked Scott Baio and Charlie Schlatter, but I particularly loved Michael Tucci as Norman, and was puzzled how he suddenly disappeared. This show is so entertaining,with great guest stars, it's a bit obvious at times, like Colombo, but in every episode, there is always something to chuckle about. In conclusion, a great series, with two thumbs up and a 10/10. Bethany Cox\n",
            "10\n"
          ],
          "name": "stdout"
        }
      ]
    },
    {
      "cell_type": "code",
      "metadata": {
        "colab": {
          "base_uri": "https://localhost:8080/"
        },
        "id": "rhCXCA_hADhS",
        "outputId": "cc2d0263-8867-4b5b-8f13-33247efaf410"
      },
      "source": [
        "myreview = []\r\n",
        "myrating = []\r\n",
        "for filename in train_pos_files:\r\n",
        "  mytemp = open(pospath+\"/\"+filename)\r\n",
        "  tempreview = mytemp.read()\r\n",
        "  myreview.append(tempreview)\r\n",
        "  mytemp.close()\r\n",
        "  temprating = int((filename.split('_')[1]).split('.')[0])\r\n",
        "  myrating.append(1)\r\n",
        "\r\n",
        "\r\n",
        "print(myreview[0])\r\n",
        "print(myrating[0])"
      ],
      "execution_count": null,
      "outputs": [
        {
          "output_type": "stream",
          "text": [
            "This, like Murder She Wrote, is one of those shows, that after a stressful day at school, I sit down in front of the TV, and watch. Why? Because I genuinely enjoy it, and it's a shame it's not on the air anymore. Dick Van Dyke is amazing as Dr Mark Sloan, a doctor-turned-detective, who with his son, solves murders. He is joined by a largely unknown but very competent supporting cast, namely his real-life son, Barry Van Dyke. Victoria Rowell is also good, but I noticed that every series her hairstyle changes. i also liked Scott Baio and Charlie Schlatter, but I particularly loved Michael Tucci as Norman, and was puzzled how he suddenly disappeared. This show is so entertaining,with great guest stars, it's a bit obvious at times, like Colombo, but in every episode, there is always something to chuckle about. In conclusion, a great series, with two thumbs up and a 10/10. Bethany Cox\n",
            "1\n"
          ],
          "name": "stdout"
        }
      ]
    },
    {
      "cell_type": "code",
      "metadata": {
        "colab": {
          "base_uri": "https://localhost:8080/"
        },
        "id": "AKHaYm75ClBJ",
        "outputId": "54016b3f-a5d4-4c25-b456-c283da4ddd2f"
      },
      "source": [
        "negpath = \"aclImdb/train/neg\"\r\n",
        "train_neg_files = os.listdir(negpath)\r\n",
        "\r\n",
        "for filename in train_neg_files:\r\n",
        "  mytemp = open(negpath+\"/\"+filename)\r\n",
        "  tempreview = mytemp.read()\r\n",
        "  myreview.append(tempreview)\r\n",
        "  mytemp.close()\r\n",
        "  temprating = int((filename.split('_')[1]).split('.')[0])\r\n",
        "  myrating.append(-1)\r\n",
        "\r\n",
        "\r\n",
        "print(myreview[-1])\r\n",
        "print(myrating[-1])"
      ],
      "execution_count": null,
      "outputs": [
        {
          "output_type": "stream",
          "text": [
            "This is the worst thing the TMNT franchise has ever spawned. I was a kid when this came out and I still thought it was deuce, even though I liked the original cartoon.<br /><br />There's this one scene I remember when the mafia ape guy explains to his minions what rhetorical questions are. It's atrocious. Many fans hate on the series for including a female turtle, but that didn't bother me. So much so that I didn't even remember her until I read about the show recently. All in all, it's miserably forgettable.<br /><br />The only okay thing was the theme song. Guilty pleasure, they call it... Nananana ninja...\n",
            "-1\n"
          ],
          "name": "stdout"
        }
      ]
    },
    {
      "cell_type": "code",
      "metadata": {
        "colab": {
          "base_uri": "https://localhost:8080/"
        },
        "id": "wb8HdHS1DGtG",
        "outputId": "bdaf2361-83e1-4203-8e71-e1ae6b1ac49e"
      },
      "source": [
        "mydbreview = pd.Series(myreview)\r\n",
        "mydbreview.head()"
      ],
      "execution_count": null,
      "outputs": [
        {
          "output_type": "execute_result",
          "data": {
            "text/plain": [
              "0    This, like Murder She Wrote, is one of those s...\n",
              "1    Coming of age movies are quite usual these day...\n",
              "2    I grew up with H.R. Pufnstuff and the dashingl...\n",
              "3    \"Le Locataire\"(\"The Tenant\")is without a doubt...\n",
              "4    Story says that on that on December 28, 1895, ...\n",
              "dtype: object"
            ]
          },
          "metadata": {
            "tags": []
          },
          "execution_count": 49
        }
      ]
    },
    {
      "cell_type": "code",
      "metadata": {
        "colab": {
          "base_uri": "https://localhost:8080/"
        },
        "id": "Xg2ooxFvDwn1",
        "outputId": "21521726-1137-4ff3-a78e-65498b87ec21"
      },
      "source": [
        "mydbrating = pd.Series(myrating)\r\n",
        "mydbrating.head()"
      ],
      "execution_count": null,
      "outputs": [
        {
          "output_type": "execute_result",
          "data": {
            "text/plain": [
              "0    1\n",
              "1    1\n",
              "2    1\n",
              "3    1\n",
              "4    1\n",
              "dtype: int64"
            ]
          },
          "metadata": {
            "tags": []
          },
          "execution_count": 50
        }
      ]
    },
    {
      "cell_type": "code",
      "metadata": {
        "colab": {
          "base_uri": "https://localhost:8080/"
        },
        "id": "snNwwcPWD2-h",
        "outputId": "7e41108e-9532-4f7f-fc97-75f076497f47"
      },
      "source": [
        "# bring rating between -5 to +5\r\n",
        "mydbratingnormalized = mydbrating.sub(5)\r\n",
        "mydbratingnormalized.head()"
      ],
      "execution_count": null,
      "outputs": [
        {
          "output_type": "execute_result",
          "data": {
            "text/plain": [
              "0    5\n",
              "1    4\n",
              "2    5\n",
              "3    5\n",
              "4    3\n",
              "dtype: int64"
            ]
          },
          "metadata": {
            "tags": []
          },
          "execution_count": 37
        }
      ]
    },
    {
      "cell_type": "code",
      "metadata": {
        "colab": {
          "base_uri": "https://localhost:8080/"
        },
        "id": "t9SbHiPzE-SQ",
        "outputId": "42672024-8f59-4a02-8ef6-7507ed85e337"
      },
      "source": [
        "# get test data in required form\r\n",
        "\r\n",
        "myreviewtest = []\r\n",
        "myratingtest = []\r\n",
        "\r\n",
        "testpospath = \"aclImdb/test/pos\"\r\n",
        "testnegpath = \"aclImdb/test/neg\"\r\n",
        "\r\n",
        "test_pos_files = os.listdir(testpospath)\r\n",
        "test_neg_files = os.listdir(testnegpath)\r\n",
        "\r\n",
        "for filename in test_pos_files:\r\n",
        "  mytemp = open(testpospath+\"/\"+filename)\r\n",
        "  tempreview = mytemp.read()\r\n",
        "  myreviewtest.append(tempreview)\r\n",
        "  mytemp.close()\r\n",
        "  temprating = int((filename.split(\"_\")[1]).split(\".\")[0]) - 5\r\n",
        "  myratingtest.append(1)\r\n",
        "\r\n",
        "print(myreviewtest[-1])\r\n",
        "print(myratingtest[-1])\r\n",
        "\r\n",
        "for filename in test_neg_files:\r\n",
        "  mytemp = open(testnegpath+\"/\"+filename)\r\n",
        "  tempreview = mytemp.read()\r\n",
        "  myreviewtest.append(tempreview)\r\n",
        "  mytemp.close()\r\n",
        "  temprating = int((filename.split(\"_\")[1]).split(\".\")[0]) - 5\r\n",
        "  myratingtest.append(-1)\r\n",
        "\r\n",
        "print(myreviewtest[-1])\r\n",
        "print(myratingtest[-1])"
      ],
      "execution_count": null,
      "outputs": [
        {
          "output_type": "stream",
          "text": [
            "\"The Aristocats\" is classic Disney at it's best. It's not considered as the ultimate Disney classic along side the more well-known Disney-films, but it's a well-made and fun film that certainly deserves to be a Disney classic. \"Aristocats\" is certainly a sure kids-pleaser, cause it has all the components for a fun kids film. I'll liked it very much as a kid. I'm not sure if this film is a sure pleaser to the adults, who could watch Disney classics for the nostalgia sake, but I still enjoy this film as an young adult.<br /><br />Storywise, \"Aristocats\" may not be so complex or innovative, but it doesn't matter. This film was made on that period where the filmmakers followed the motto that the characters were the story and wise versa, which \"Aristocats\" certainly shows. The characters make the film; they're all likable, fun, have great lines and have a great interaction with each other. The voice actors are also a part for making the characters so compelling (Eva Gabor as Duchess, Phil Harris as Thomas O'Malley and etc). A misconception could have been the dogs Napoleon and Lafayette, since they're showstoppers and haven't so much to do with the actual story, but fortunately they're fun and amusing characters and the scenes with them are pure gold.<br /><br />\"Aristocats\" is both entertaining and cute, but it's also a very funny cartoon. The animation style and look fits perfectly for the film's French surroundings (especially the city of Paris looks greats). The character animation and design is great. And the songs are really catchy too. My favorite is \"Scale and Arpeggios\", but the title song is a cute song, along with \"Thomas O'Malley Cat\" and the memorable show-stopper \"Everybody Want's To Be A Cat\". And the score by George Burns is a perfect fit for the film funny and emotional situations.<br /><br />Overall, \"Aristocats\" is in my opinion the best Disney cartoon from the 70's and it's a film that deserves to both be seen and remembered. So what you're waiting for? Do your self a favor and share this Disney classic with your kids. It deserves to be in their memories.\n",
            "1\n",
            "I'm not going to say the story of the movie as some people do. I'm pretty sure people who read this will know what the storyline is. I'm also not going to go on and on about everything thats wrong with this movie, because I'll be here for ages if I do. The storyline is typical, and the special effects are below today's standards. This is not a movie you should watch if you are a serious movie buff (as most of us here are) little things will annoy you the whole movie and ruin the experience. If your a casual movie watcher, who likes to have a good time when they are watching a flick, then this movie is perfect for you, lots of fun. It would also be a good movie to take a partner to. Just not for us movie buff's.<br /><br /> 5 out of 10\n",
            "-1\n"
          ],
          "name": "stdout"
        }
      ]
    },
    {
      "cell_type": "code",
      "metadata": {
        "id": "071KwA4pGkDq"
      },
      "source": [
        "mydbreviewtest = pd.Series(myreviewtest)\r\n",
        "mydbratingtest = pd.Series(myratingtest)"
      ],
      "execution_count": null,
      "outputs": []
    },
    {
      "cell_type": "code",
      "metadata": {
        "id": "C8XaPG9eFXpK"
      },
      "source": [
        "tfidf_vectorizer = TfidfVectorizer(stop_words='english', max_df=0.9)\r\n",
        "tfidf_train = tfidf_vectorizer.fit_transform(mydbreview)\r\n",
        "tfidf_test = tfidf_vectorizer.transform(mydbreviewtest)"
      ],
      "execution_count": null,
      "outputs": []
    },
    {
      "cell_type": "code",
      "metadata": {
        "id": "p5ToEt5vHtrz"
      },
      "source": [
        "from sklearn.naive_bayes import MultinomialNB\r\n",
        "mynbc = MultinomialNB()\r\n",
        "mynbc.fit(tfidf_train, mydbrating)\r\n",
        "rating_pred = mynbc.predict(tfidf_test)"
      ],
      "execution_count": null,
      "outputs": []
    },
    {
      "cell_type": "code",
      "metadata": {
        "colab": {
          "base_uri": "https://localhost:8080/"
        },
        "id": "6Vql5dqIIX3U",
        "outputId": "cf03eb03-442d-49ae-926e-1e419011d1a9"
      },
      "source": [
        "accuracy_score(mydbratingtest, rating_pred)"
      ],
      "execution_count": null,
      "outputs": [
        {
          "output_type": "execute_result",
          "data": {
            "text/plain": [
              "0.82992"
            ]
          },
          "metadata": {
            "tags": []
          },
          "execution_count": 55
        }
      ]
    },
    {
      "cell_type": "code",
      "metadata": {
        "colab": {
          "base_uri": "https://localhost:8080/"
        },
        "id": "dtHRWRspJW1M",
        "outputId": "92e5cb95-bb79-4601-bde7-9bbcd1bafb4e"
      },
      "source": [
        "confusion_matrix(mydbratingtest, rating_pred)"
      ],
      "execution_count": null,
      "outputs": [
        {
          "output_type": "execute_result",
          "data": {
            "text/plain": [
              "array([[10979,  1521],\n",
              "       [ 2731,  9769]])"
            ]
          },
          "metadata": {
            "tags": []
          },
          "execution_count": 56
        }
      ]
    }
  ]
}