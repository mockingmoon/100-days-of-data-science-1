{
  "nbformat": 4,
  "nbformat_minor": 0,
  "metadata": {
    "celltoolbar": "Slideshow",
    "kernelspec": {
      "display_name": "Python 3",
      "language": "python",
      "name": "python3"
    },
    "language_info": {
      "codemirror_mode": {
        "name": "ipython",
        "version": 3
      },
      "file_extension": ".py",
      "mimetype": "text/x-python",
      "name": "python",
      "nbconvert_exporter": "python",
      "pygments_lexer": "ipython3",
      "version": "3.6.5"
    },
    "toc": {
      "colors": {
        "hover_highlight": "#DAA520",
        "running_highlight": "#FF0000",
        "selected_highlight": "#FFD700"
      },
      "moveMenuLeft": true,
      "nav_menu": {
        "height": "271px",
        "width": "252px"
      },
      "navigate_menu": true,
      "number_sections": true,
      "sideBar": true,
      "threshold": "2",
      "toc_cell": false,
      "toc_position": {
        "height": "664px",
        "left": "0px",
        "right": "1388px",
        "top": "107px",
        "width": "212px"
      },
      "toc_section_display": "block",
      "toc_window_display": true
    },
    "colab": {
      "name": "D3_numpy_intermediate_pandas_intro.ipynb",
      "provenance": [],
      "collapsed_sections": []
    }
  },
  "cells": [
    {
      "cell_type": "markdown",
      "metadata": {
        "id": "c01qXazq3W_U"
      },
      "source": [
        "For complete series of 26 Weeks of Data Science, go to https://github.com/MayureshShilotri/26-Weeks-Of-Data-Science ."
      ]
    },
    {
      "cell_type": "markdown",
      "metadata": {
        "id": "utjcVSv724St"
      },
      "source": [
        "<img src=\"https://github.com/mockingmoon/26-Weeks-Of-Data-Science/blob/master/Week-03-Numpy_advanced_Pandas_basic/images/26-weeks-of-data-science-banner.jpg?raw=1\"/>"
      ]
    },
    {
      "cell_type": "markdown",
      "metadata": {
        "id": "vc3zbnwO24S1"
      },
      "source": [
        "![Numpy+Pandas](https://github.com/mockingmoon/26-Weeks-Of-Data-Science/blob/master/Week-03-Numpy_advanced_Pandas_basic/images/python_day3.png?raw=1)\n",
        "Image source:https://blog.thedataincubator.com/2018/02/numpy-and-pandas/\n",
        "\n",
        "# Numpy Advanced & Intro to pandas"
      ]
    },
    {
      "cell_type": "markdown",
      "metadata": {
        "id": "FETtn1Jt24S2"
      },
      "source": [
        "# Program so far \n",
        "***\n",
        "- Python Basics\n",
        "- Python Programming Constructs\n",
        "- Data Structures\n",
        "- Functions\n",
        "- Object Oriented Programming in Python\n",
        "- NumPy\n",
        "- Data Manipulation"
      ]
    },
    {
      "cell_type": "markdown",
      "metadata": {
        "id": "aKr8bcBL24S2"
      },
      "source": [
        "# What are we going to learn today?\n",
        "***\n",
        "- NumPy: A Step Advanced\n",
        "    - Indexing and Selection\n",
        "    - Slicing\n",
        "    - Filters\n",
        "    - Replacing Values\n",
        "<br/><br/>\n",
        "- Pandas\n",
        "    - Why Pandas ?\n",
        "    - Features of Pandas\n",
        "    - Pandas Data Structures\n",
        "    - Pandas Series\n",
        "        - How to create Series ?\n",
        "        - Using index in Series"
      ]
    },
    {
      "cell_type": "markdown",
      "metadata": {
        "id": "GmNN8tK924S2"
      },
      "source": [
        "<img src=\"https://github.com/mockingmoon/26-Weeks-Of-Data-Science/blob/master/Week-03-Numpy_advanced_Pandas_basic/images/icon/Concept-Alert.png?raw=1\" alt=\"Concept-Alert\" style=\"width: 100px;float:left; margin-right:15px\"/>\n",
        "<br /> \n",
        "\n",
        "# Indexing and Selection\n",
        "***\n",
        "Basic slicing extends Python's basic concept of slicing to N dimensions. Basic slicing occurs when obj is a `:class:` `slice` object (constructed by start:stop:step notation inside of brackets), an integer, or a tuple of slice objects and integers. :const:`Ellipsis` and :const:`newaxis` objects can be interspersed with these as well. In order to remain backward compatible with a common usage in Numeric, basic slicing is also initiated if the selection object is any non-ndarray sequence (such as a :class:`list`) containing :class:`slice` objects.\n",
        "\n",
        "Let us look at  creating an array with numpy and indexing and selection follows from what we have learnt in python"
      ]
    },
    {
      "cell_type": "code",
      "metadata": {
        "id": "c69-zAwh24S2",
        "colab": {
          "base_uri": "https://localhost:8080/"
        },
        "outputId": "ed70eda2-8206-49e1-f663-19d30424b5dd"
      },
      "source": [
        "# indexing one dimensional array\n",
        "import numpy as np\n",
        "\n",
        "arr = np.arange(10) #create an array of integers in range [0,10)\n",
        "print(\"Array:\", arr)\n",
        "\n",
        "# following 2 slicing syntaxes are same as for Python List\n",
        "\n",
        "# get the element at index 5\n",
        "print(\"Element:\", arr[5])\n",
        "\n",
        "# get values in a range [1,9) with step of 2, thus we get all odd no.s except 9\n",
        "print(\"Slice:\", arr[1:9:2])\n",
        "\n",
        "# try changing the values in slice to see different slices\n",
        "# e.g. arr[-1:-6:-1] or arr[::-1]"
      ],
      "execution_count": 1,
      "outputs": [
        {
          "output_type": "stream",
          "text": [
            "Array: [0 1 2 3 4 5 6 7 8 9]\n",
            "Element: 5\n",
            "Slice: [1 3 5 7]\n"
          ],
          "name": "stdout"
        }
      ]
    },
    {
      "cell_type": "code",
      "metadata": {
        "id": "8sSVI5uh24S4",
        "colab": {
          "base_uri": "https://localhost:8080/"
        },
        "outputId": "940d4c80-4865-45ab-e77c-4bc6add5d95a"
      },
      "source": [
        "# indexing two dimensional array\n",
        "arr = np.array([[1,2,3],[4,5,6],[7,8,9]])\n",
        "                 #0      #1       #2\n",
        "print (arr)\n",
        "print (arr[1])    # select a row\n",
        "print (arr[2][0]) # [row][column]\n",
        "print (arr[:,2])  # [row, column]\n",
        "# in above example, we say: show all rows and show all values in column 2\n",
        "print (arr[0,2])"
      ],
      "execution_count": 9,
      "outputs": [
        {
          "output_type": "stream",
          "text": [
            "[[1 2 3]\n",
            " [4 5 6]\n",
            " [7 8 9]]\n",
            "[4 5 6]\n",
            "7\n",
            "[3 6 9]\n",
            "3\n"
          ],
          "name": "stdout"
        }
      ]
    },
    {
      "cell_type": "markdown",
      "metadata": {
        "id": "9McmqPtV24S4"
      },
      "source": [
        "<img src=\"https://github.com/mockingmoon/26-Weeks-Of-Data-Science/blob/master/Week-03-Numpy_advanced_Pandas_basic/images/icon/Use-Case.png?raw=1\" alt=\"Use-Case\" style=\"width: 100px;float:left; margin-right:15px\"/>\n",
        "<br /> \n",
        "\n",
        "# Let's Recall our Weather Data\n",
        "***\n",
        "```\n",
        "Date/Time,Temp (C),Dew Point Temp (C),Rel Hum (%),Wind Spd (km/h),Visibility (km),Stn Press (kPa)\n",
        "2012-01-01 00:00:00,-1.8,-3.9,86,4,8.0,101.24\n",
        "2012-01-01 01:00:00,-1.8,-3.7,87,4,8.0,101.24\n",
        "2012-01-01 02:00:00,-1.8,-3.4,89,7,4.0,101.26\n",
        "2012-01-01 03:00:00,-1.5,-3.2,88,6,4.0,101.27```"
      ]
    },
    {
      "cell_type": "markdown",
      "metadata": {
        "id": "dRsSmMax24S4"
      },
      "source": [
        "\n",
        "### What was the wind speed recorded at 1 AM on 1st January 2012 ?\n",
        "\n",
        "This is exactly a problem of indexing to locate information. Let us begin by reading the data and proceed how to use indexing.\n",
        "\n",
        "[Note: The .csv file is present in the GitHub repository. To read it, we do the following--]"
      ]
    },
    {
      "cell_type": "code",
      "metadata": {
        "colab": {
          "base_uri": "https://localhost:8080/"
        },
        "id": "CxLR37Jp6YrG",
        "outputId": "da7a33d4-4793-4962-ea09-b1ce9fa4d08d"
      },
      "source": [
        "!wget \"https://raw.githubusercontent.com/MayureshShilotri/26-Weeks-Of-Data-Science/master/Week-03-Numpy_advanced_Pandas_basic/data/weather_small_2012.csv\"\r\n",
        "# this will download the csv file in the Google Colab local storage which you can access directly"
      ],
      "execution_count": 10,
      "outputs": [
        {
          "output_type": "stream",
          "text": [
            "--2020-12-30 13:51:51--  https://raw.githubusercontent.com/MayureshShilotri/26-Weeks-Of-Data-Science/master/Week-03-Numpy_advanced_Pandas_basic/data/weather_small_2012.csv\n",
            "Resolving raw.githubusercontent.com (raw.githubusercontent.com)... 151.101.0.133, 151.101.64.133, 151.101.128.133, ...\n",
            "Connecting to raw.githubusercontent.com (raw.githubusercontent.com)|151.101.0.133|:443... connected.\n",
            "HTTP request sent, awaiting response... 200 OK\n",
            "Length: 413479 (404K) [text/plain]\n",
            "Saving to: ‘weather_small_2012.csv’\n",
            "\n",
            "weather_small_2012. 100%[===================>] 403.79K  --.-KB/s    in 0.03s   \n",
            "\n",
            "2020-12-30 13:51:51 (11.7 MB/s) - ‘weather_small_2012.csv’ saved [413479/413479]\n",
            "\n"
          ],
          "name": "stdout"
        }
      ]
    },
    {
      "cell_type": "code",
      "metadata": {
        "colab": {
          "base_uri": "https://localhost:8080/"
        },
        "id": "Svr3iqza62w5",
        "outputId": "6aa37c5f-f808-4f61-ed38-7a2bfc87fa63"
      },
      "source": [
        "%ls\r\n",
        "# list the files stored to check whether it is downloaded\r\n",
        "# you can also directly view in the folder through sidepanel (see folder icon on the left)"
      ],
      "execution_count": 11,
      "outputs": [
        {
          "output_type": "stream",
          "text": [
            "\u001b[0m\u001b[01;34msample_data\u001b[0m/  weather_small_2012.csv\n"
          ],
          "name": "stdout"
        }
      ]
    },
    {
      "cell_type": "code",
      "metadata": {
        "id": "E4s13RkL24S5",
        "colab": {
          "base_uri": "https://localhost:8080/"
        },
        "outputId": "50561ea8-8c6e-48a6-93c3-c1e3faafdc22"
      },
      "source": [
        "# import numpy as np\n",
        "\n",
        "weather = np.genfromtxt(\"./weather_small_2012.csv\", dtype='|S20', skip_header=1, delimiter=\",\")\n",
        "print(type(weather))"
      ],
      "execution_count": 12,
      "outputs": [
        {
          "output_type": "stream",
          "text": [
            "<class 'numpy.ndarray'>\n"
          ],
          "name": "stdout"
        }
      ]
    },
    {
      "cell_type": "code",
      "metadata": {
        "id": "g2Huo7MZ24S5",
        "colab": {
          "base_uri": "https://localhost:8080/"
        },
        "outputId": "94b43340-ccf5-4659-97cc-ed5ff83409c0"
      },
      "source": [
        "# the time for which information is desired is at the second row in the data set\n",
        "print(weather[1])\n",
        "\n",
        "# wind speed is recorded in the fifth column (index 4)\n",
        "print(weather[1][4])\n",
        "\n",
        "# Alternatively\n",
        "print(weather[1, 4])  # recommended and correct way of doing it"
      ],
      "execution_count": 13,
      "outputs": [
        {
          "output_type": "stream",
          "text": [
            "[b'2012-01-01 01:00:00' b'-1.8' b'-3.7' b'87' b'4' b'8.0' b'101.24']\n",
            "b'4'\n",
            "b'4'\n"
          ],
          "name": "stdout"
        }
      ]
    },
    {
      "cell_type": "markdown",
      "metadata": {
        "id": "O1iHrH9Y24S5"
      },
      "source": [
        "<img src=\"https://github.com/mockingmoon/26-Weeks-Of-Data-Science/blob/master/Week-03-Numpy_advanced_Pandas_basic/images/icon/Technical-Stuff.png?raw=1\" alt=\"Concept-Alert\" style=\"width: 100px;float:left; margin-right:15px\"/>\n",
        "<br /> \n",
        "\n",
        "# So What is Slicing?\n",
        "***\n",
        "This works very similarly to the Python list. Syntax: **`arr[start:end:step]`**"
      ]
    },
    {
      "cell_type": "code",
      "metadata": {
        "id": "xvgXkWFN24S5",
        "colab": {
          "base_uri": "https://localhost:8080/"
        },
        "outputId": "fc454a61-ab9c-4ace-fa90-05e3c3b1ac4e"
      },
      "source": [
        "# Slicing one dimensional array\n",
        "arr = np.arange(10)\n",
        "print (arr)\n",
        "\n",
        "print (arr[0:3])\n",
        "\n",
        "# start from index 1 and get every 3rd elemnt\n",
        "print (arr[1::3])"
      ],
      "execution_count": 14,
      "outputs": [
        {
          "output_type": "stream",
          "text": [
            "[0 1 2 3 4 5 6 7 8 9]\n",
            "[0 1 2]\n",
            "[1 4 7]\n"
          ],
          "name": "stdout"
        }
      ]
    },
    {
      "cell_type": "code",
      "metadata": {
        "id": "M2Nm8V4524S6",
        "colab": {
          "base_uri": "https://localhost:8080/"
        },
        "outputId": "6e53eaf5-0284-46b6-d149-82a71ff9ea99"
      },
      "source": [
        "# Slicing two-dimensional array\n",
        "\n",
        "arr = np.array([[1, 2, 3, 4, 5],\n",
        "                [6, 7, 8, 9, 10],\n",
        "                [11,12,13,14,15]])\n",
        "\n",
        "\n",
        "# 2nd row to 3rd row, 3rd column to 5th column inclusive\n",
        "# remember, indexing always starts with 0\n",
        "# index of first row is 0, first column is 0\n",
        "print(arr[1:3, 2:4])\n",
        "\n",
        "# notice that the output is also a 2d array"
      ],
      "execution_count": 16,
      "outputs": [
        {
          "output_type": "stream",
          "text": [
            "[[ 8  9]\n",
            " [13 14]]\n"
          ],
          "name": "stdout"
        }
      ]
    },
    {
      "cell_type": "markdown",
      "metadata": {
        "id": "vE3dp0eC24S6"
      },
      "source": [
        "<img src=\"https://github.com/mockingmoon/26-Weeks-Of-Data-Science/blob/master/Week-03-Numpy_advanced_Pandas_basic/images/icon/Use-Case.png?raw=1\" alt=\"Use-Case\" style=\"width: 100px;float:left; margin-right:15px\"/>\n",
        "<br /> \n",
        "\n",
        "### What were the temperatures, relative humidity and pressure recorded on Jan 6 ?\n",
        "***\n",
        "Hint: Recordings for Jan 6 are from index 120 to 143 inclusive"
      ]
    },
    {
      "cell_type": "code",
      "metadata": {
        "scrolled": true,
        "id": "Vs6pOtMA24S6",
        "colab": {
          "base_uri": "https://localhost:8080/"
        },
        "outputId": "37073fad-9b71-45c3-c6d1-46f34915e4b6"
      },
      "source": [
        "weather[120:144, [1, 3, 6]] # here we specify to display columns of index 1, 3 and 6"
      ],
      "execution_count": 17,
      "outputs": [
        {
          "output_type": "execute_result",
          "data": {
            "text/plain": [
              "array([[b'-9.6', b'56', b'100.81'],\n",
              "       [b'-10.0', b'55', b'100.81'],\n",
              "       [b'-10.5', b'61', b'100.84'],\n",
              "       [b'-10.6', b'64', b'100.76'],\n",
              "       [b'-11.3', b'68', b'100.7'],\n",
              "       [b'-11.8', b'71', b'100.61'],\n",
              "       [b'-12.0', b'71', b'100.58'],\n",
              "       [b'-14.4', b'85', b'100.52'],\n",
              "       [b'-12.3', b'73', b'100.51'],\n",
              "       [b'-12.5', b'71', b'100.53'],\n",
              "       [b'-12.3', b'72', b'100.47'],\n",
              "       [b'-12.0', b'72', b'100.36'],\n",
              "       [b'-11.7', b'74', b'100.23'],\n",
              "       [b'-11.9', b'74', b'100.13'],\n",
              "       [b'-11.2', b'75', b'100.07'],\n",
              "       [b'-11.5', b'79', b'100.06'],\n",
              "       [b'-11.6', b'78', b'100.1'],\n",
              "       [b'-11.2', b'78', b'100.15'],\n",
              "       [b'-10.5', b'78', b'100.12'],\n",
              "       [b'-10.5', b'79', b'100.13'],\n",
              "       [b'-10.2', b'80', b'100.15'],\n",
              "       [b'-9.5', b'79', b'100.13'],\n",
              "       [b'-9.3', b'79', b'100.16'],\n",
              "       [b'-9.0', b'79', b'100.15']], dtype='|S20')"
            ]
          },
          "metadata": {
            "tags": []
          },
          "execution_count": 17
        }
      ]
    },
    {
      "cell_type": "markdown",
      "metadata": {
        "id": "P-HGfeF624S6"
      },
      "source": [
        "<img src=\"https://github.com/mockingmoon/26-Weeks-Of-Data-Science/blob/master/Week-03-Numpy_advanced_Pandas_basic/images/icon/Concept-Alert.png?raw=1\" alt=\"Concept-Alert\" style=\"width: 100px;float:left; margin-right:15px\"/>\n",
        "<br /> \n",
        "\n",
        "# Filters\n",
        "***\n",
        "![Filter](https://github.com/mockingmoon/26-Weeks-Of-Data-Science/blob/master/Week-03-Numpy_advanced_Pandas_basic/images/filters1.jpg?raw=1)\n",
        "Image Source:https://pixabay.com/en/yashica-filter-camera-vintage-711794/\n",
        "***\n",
        "Anything that takes in data, processes it, and provides an output\n",
        "\n",
        "Input Data ⟶ Filter ⟶ Output Data"
      ]
    },
    {
      "cell_type": "markdown",
      "metadata": {
        "id": "_xdKXNmY24S7"
      },
      "source": [
        "## How do I create a Filter?"
      ]
    },
    {
      "cell_type": "code",
      "metadata": {
        "id": "cZc7YW-n24S7",
        "colab": {
          "base_uri": "https://localhost:8080/"
        },
        "outputId": "44504922-1ba3-4cc1-b808-ef00d2da6fc8"
      },
      "source": [
        "arr = np.array([[1,2,3],[4,5,6],[7,8,9]])\n",
        "\n",
        "below5_filter = (arr < 5)\n",
        "print(below5_filter)"
      ],
      "execution_count": 18,
      "outputs": [
        {
          "output_type": "stream",
          "text": [
            "[[ True  True  True]\n",
            " [ True False False]\n",
            " [False False False]]\n"
          ],
          "name": "stdout"
        }
      ]
    },
    {
      "cell_type": "markdown",
      "metadata": {
        "id": "iiQEnV5b24S7"
      },
      "source": [
        "## Using a Filter\n",
        "***\n",
        "A filter can simply be used in an indexing operation (instead of numbers or slices)"
      ]
    },
    {
      "cell_type": "code",
      "metadata": {
        "id": "UJY-aAVH24S7",
        "colab": {
          "base_uri": "https://localhost:8080/"
        },
        "outputId": "7ad32c7c-fe1c-4637-f941-2ae87e9992c5"
      },
      "source": [
        "print(arr[below5_filter])\r\n",
        "# alternatively, you can directly specify the filter in the square brackets\r\n",
        "# print(arr[arr>5])\r\n",
        "# comment out the above line"
      ],
      "execution_count": 21,
      "outputs": [
        {
          "output_type": "stream",
          "text": [
            "[1 2 3 4]\n",
            "[6 7 8 9]\n"
          ],
          "name": "stdout"
        }
      ]
    },
    {
      "cell_type": "markdown",
      "metadata": {
        "id": "YNHLCOw524S8"
      },
      "source": [
        "<img src=\"https://github.com/mockingmoon/26-Weeks-Of-Data-Science/blob/master/Week-03-Numpy_advanced_Pandas_basic/images/icon/Use-Case.png?raw=1\" alt=\"Use-Case\" style=\"width: 100px;float:left; margin-right:15px\"/>\n",
        "<br /> \n",
        "\n",
        "### What were the date/times when the temperature was above 32 degrees and visibility over 30 km ?\n"
      ]
    },
    {
      "cell_type": "code",
      "metadata": {
        "id": "NNRsdM0G24S8",
        "colab": {
          "base_uri": "https://localhost:8080/"
        },
        "outputId": "727ca158-cf53-4267-8d9a-cea59072159d"
      },
      "source": [
        "# select the date time column\n",
        "times = weather[:,0] #all rows, first column\n",
        "\n",
        "# create filter: temperature over 32 degrees\n",
        "temperature_over_32 = weather[:,1].astype(np.float16) > 32\n",
        "# astype(np.float16) is a function used to convert the string data type temporarily to float\n",
        "\n",
        "# create filter: visibility above 30 km\n",
        "visibility_over_30 = weather[:,-2].astype(np.float16) > 30\n",
        "\n",
        "# get the times\n",
        "times[temperature_over_32 & visibility_over_30] \n",
        "# \"&\" is bitwise AND operator, which means it ANDs each pair of values in both filter arrays"
      ],
      "execution_count": 26,
      "outputs": [
        {
          "output_type": "execute_result",
          "data": {
            "text/plain": [
              "array([b'2012-07-13 14:00:00', b'2012-07-14 14:00:00',\n",
              "       b'2012-07-14 15:00:00', b'2012-07-14 16:00:00',\n",
              "       b'2012-07-14 17:00:00'], dtype='|S20')"
            ]
          },
          "metadata": {
            "tags": []
          },
          "execution_count": 26
        }
      ]
    },
    {
      "cell_type": "markdown",
      "metadata": {
        "id": "Qpn89mwA24S8"
      },
      "source": [
        "<img src=\"https://github.com/mockingmoon/26-Weeks-Of-Data-Science/blob/master/Week-03-Numpy_advanced_Pandas_basic/images/icon/Technical-Stuff.png?raw=1\" alt=\"Concept-Alert\" style=\"width: 100px;float:left; margin-right:15px\"/>\n",
        "<br /> \n",
        "\n",
        "# Replacing values\n",
        "***\n",
        "We can also use comparisons to replace values in an array, based on certain conditions. The code to do the same is as shown below. The code to replacing values on certain conditions is as follows."
      ]
    },
    {
      "cell_type": "code",
      "metadata": {
        "id": "VSbjpa5c24S8",
        "colab": {
          "base_uri": "https://localhost:8080/"
        },
        "outputId": "be2e1c90-d9ed-4447-9d69-733e1d4d3a72"
      },
      "source": [
        "# Replacing Values\n",
        "# import numpy as np\n",
        "\n",
        "vector = np.array([5, 10, 15, 20])\n",
        "print (vector)\n",
        "\n",
        "equal_to_ten_or_five = (vector == 10) | (vector == 5)\n",
        "vector[equal_to_ten_or_five] = 50\n",
        "\n",
        "print (vector)"
      ],
      "execution_count": 27,
      "outputs": [
        {
          "output_type": "stream",
          "text": [
            "[ 5 10 15 20]\n",
            "[50 50 15 20]\n"
          ],
          "name": "stdout"
        }
      ]
    },
    {
      "cell_type": "markdown",
      "metadata": {
        "id": "bkn7QBC824S9"
      },
      "source": [
        "<img src=\"https://github.com/mockingmoon/26-Weeks-Of-Data-Science/blob/master/Week-03-Numpy_advanced_Pandas_basic/images/icon/ppt-icons.png?raw=1\" alt=\"Use-Case\" style=\"width: 100px;float:left; margin-right:15px\"/>\n",
        "<br /> \n",
        "\n",
        "### Mini Challenge - 1\n",
        "***\n",
        "Can you locate the number 5 in the array arr"
      ]
    },
    {
      "cell_type": "code",
      "metadata": {
        "id": "inlRDVi_24S9",
        "colab": {
          "base_uri": "https://localhost:8080/"
        },
        "outputId": "0c919393-7b8a-4a9d-a0e2-97d9370ab113"
      },
      "source": [
        "arr = np.array([[1,2,3],[4,5,6],[7,8,9]])\r\n",
        "print(np.where(arr==5))"
      ],
      "execution_count": 32,
      "outputs": [
        {
          "output_type": "stream",
          "text": [
            "(array([1]), array([1]))\n"
          ],
          "name": "stdout"
        }
      ]
    },
    {
      "cell_type": "markdown",
      "metadata": {
        "id": "NjLnMyLQ24S9"
      },
      "source": [
        "<img src=\"https://github.com/mockingmoon/26-Weeks-Of-Data-Science/blob/master/Week-03-Numpy_advanced_Pandas_basic/images/icon/Use-Case.png?raw=1\" alt=\"Use-Case\" style=\"width: 100px;float:left; margin-right:15px\"/>\n",
        "<br /> \n",
        "\n",
        "### Mini Challenge - 2\n",
        "***\n",
        "Now its your turn again. Can you print the first 2 rows and first 3 columns of the array `arr`."
      ]
    },
    {
      "cell_type": "code",
      "metadata": {
        "id": "SzLgVG2R24S9"
      },
      "source": [
        "arr = np.array([[1, 2, 3, 4, 5],\n",
        "                [6, 7, 8, 9, 10],\n",
        "                [11,12,13,14,15]])\n"
      ],
      "execution_count": null,
      "outputs": []
    },
    {
      "cell_type": "code",
      "metadata": {
        "id": "NOisP49e24S9",
        "colab": {
          "base_uri": "https://localhost:8080/"
        },
        "outputId": "f63c5589-e8a3-4ea8-d72e-d1f5ca247d16"
      },
      "source": [
        "print(arr[:2,:3])"
      ],
      "execution_count": 33,
      "outputs": [
        {
          "output_type": "stream",
          "text": [
            "[[1 2 3]\n",
            " [4 5 6]]\n"
          ],
          "name": "stdout"
        }
      ]
    },
    {
      "cell_type": "markdown",
      "metadata": {
        "id": "KdloNRU824S9"
      },
      "source": [
        "<h1 align='center'>Help us spread the word for 26-Weeks-Of-Data-Science.</h1>\n",
        "***\n",
        "![team](../images/team_resized.jpeg)<br/>\n",
        "We wish to ensure that maximum learners reap the benefits of our study-plan. Please like, share the post below & help us share\n",
        "<br/><br/>\n",
        "<div style=\"text-align: center\"><a href=\"https://www.linkedin.com/feed/update/urn:li:activity:6487273029977112576/\"  class=\"btn-hover color-3\" style=\"text-align: center;background-color: #543d98;padding: 12px 15px;color: #fff!important;border: 0;border-radius: 4px;box-shadow: 2px 2px 2px #999; font-weight: bold;\">HIT HERE TO HELP US SHARE</a></div><br>"
      ]
    },
    {
      "cell_type": "code",
      "metadata": {
        "id": "Qx8MBof724S9"
      },
      "source": [
        ""
      ],
      "execution_count": null,
      "outputs": []
    },
    {
      "cell_type": "markdown",
      "metadata": {
        "id": "yVRI9yOI24S-"
      },
      "source": [
        "# Introduction to\n",
        "***\n",
        "![Pandas_logo](https://github.com/mockingmoon/26-Weeks-Of-Data-Science/blob/master/Week-03-Numpy_advanced_Pandas_basic/images/pandas.png?raw=1)\n",
        "Image source:https://en.wikipedia.org/wiki/Pandas_(software)\n",
        "***\n",
        "The most widely used Python library for data science"
      ]
    },
    {
      "cell_type": "markdown",
      "metadata": {
        "id": "qJu9H1X224S-"
      },
      "source": [
        "It has nothing to do with cute bears. Instead it stands for **Pan**el **da**ta - **Pandas**\n",
        "***\n",
        "![cute_pandas](https://github.com/mockingmoon/26-Weeks-Of-Data-Science/blob/master/Week-03-Numpy_advanced_Pandas_basic/images/cute_pandas.jpg?raw=1)\n",
        "Image source:https://wallpaper-house.com/wallpaper-id-399850.php"
      ]
    },
    {
      "cell_type": "markdown",
      "metadata": {
        "id": "sa06l_-K24S-"
      },
      "source": [
        "<img src=\"https://github.com/mockingmoon/26-Weeks-Of-Data-Science/blob/master/Week-03-Numpy_advanced_Pandas_basic/images/icon/Concept-Alert.png?raw=1\" alt=\"Concept-Alert\" style=\"width: 100px;float:left; margin-right:15px\"/>\n",
        "<br /> \n",
        "\n",
        "## Why Pandas ?\n",
        "***\n",
        "<img src=\"https://github.com/mockingmoon/26-Weeks-Of-Data-Science/blob/master/Week-03-Numpy_advanced_Pandas_basic/images/why-pandas.jpg?raw=1\" width=\"70%\"/>"
      ]
    },
    {
      "cell_type": "markdown",
      "metadata": {
        "id": "0lw8hq6U24S-"
      },
      "source": [
        "<img src=\"https://github.com/mockingmoon/26-Weeks-Of-Data-Science/blob/master/Week-03-Numpy_advanced_Pandas_basic/images/icon/Concept-Alert.png?raw=1\" alt=\"Concept-Alert\" style=\"width: 100px;float:left; margin-right:15px\"/>\n",
        "<br /> \n",
        "\n",
        "## Features of Pandas\n",
        "***\n",
        "<img src=\"https://github.com/mockingmoon/26-Weeks-Of-Data-Science/blob/master/Week-03-Numpy_advanced_Pandas_basic/images/pandas-features.jpg?raw=1\" width=\"70%\"/>"
      ]
    },
    {
      "cell_type": "markdown",
      "metadata": {
        "id": "F5Cm5G_z24S-"
      },
      "source": [
        "<img src=\"https://github.com/mockingmoon/26-Weeks-Of-Data-Science/blob/master/Week-03-Numpy_advanced_Pandas_basic/images/icon/Concept-Alert.png?raw=1\" alt=\"Concept-Alert\" style=\"width: 100px;float:left; margin-right:15px\"/>\n",
        "<br /> \n",
        "\n",
        "# Pandas Data Structures\n",
        "***\n",
        "<img src=\"https://github.com/mockingmoon/26-Weeks-Of-Data-Science/blob/master/Week-03-Numpy_advanced_Pandas_basic/images/pandas-datastructures.jpg?raw=1\" width=\"70%\"/>"
      ]
    },
    {
      "cell_type": "markdown",
      "metadata": {
        "id": "wpH42fn424S-"
      },
      "source": [
        "<img src=\"https://github.com/mockingmoon/26-Weeks-Of-Data-Science/blob/master/Week-03-Numpy_advanced_Pandas_basic/images/icon/Concept-Alert.png?raw=1\" alt=\"Concept-Alert\" style=\"width: 100px;float:left; margin-right:15px\"/>\n",
        "<br /> \n",
        "\n",
        "# Pandas Series\n",
        "***\n",
        "* Very similar to a NumPy array.\n",
        "\n",
        "* What differentiates the NumPy array from a Series, is that a Series can have axis labels, meaning it can be indexed by a label, instead of just a number location."
      ]
    },
    {
      "cell_type": "markdown",
      "metadata": {
        "id": "40mKd8R424S_"
      },
      "source": [
        "<img src=\"https://github.com/mockingmoon/26-Weeks-Of-Data-Science/blob/master/Week-03-Numpy_advanced_Pandas_basic/images/icon/Technical-Stuff.png?raw=1\" alt=\"Concept-Alert\" style=\"width: 100px;float:left; margin-right:15px\"/>\n",
        "<br /> \n",
        "\n",
        "## How to create a Series?\n",
        "***\n",
        "You can convert a list, numpy array, or dictionary to a Series. To create a series you call the function pd.Series(). Let's see an example of the same.\n",
        "\n",
        "We will create a series from \n",
        "- list\n",
        "- numpy array \n",
        "- dictionary"
      ]
    },
    {
      "cell_type": "code",
      "metadata": {
        "id": "xc_-4WY224S_",
        "colab": {
          "base_uri": "https://localhost:8080/"
        },
        "outputId": "0e04e138-ae6d-4c6d-e65d-ca013620d35d"
      },
      "source": [
        "#creating a pandas series from a list\n",
        "import pandas as pd\n",
        "\n",
        "my_list = [10, 20, 30]\n",
        "series = pd.Series(my_list)\n",
        "\n",
        "print(series)\n",
        "print(series.index)\n",
        "print(series.values)"
      ],
      "execution_count": 34,
      "outputs": [
        {
          "output_type": "stream",
          "text": [
            "0    10\n",
            "1    20\n",
            "2    30\n",
            "dtype: int64\n",
            "RangeIndex(start=0, stop=3, step=1)\n",
            "[10 20 30]\n"
          ],
          "name": "stdout"
        }
      ]
    },
    {
      "cell_type": "code",
      "metadata": {
        "id": "zKgi0uEE24S_",
        "colab": {
          "base_uri": "https://localhost:8080/"
        },
        "outputId": "de5f4921-a641-48af-f50f-13095a5e210a"
      },
      "source": [
        "# creating a series from numPy Array\n",
        "# import numpy as np\n",
        "# import pandas as pd\n",
        "\n",
        "index = ['a','b','c']\n",
        "arr = np.array([10,20,30])\n",
        "\n",
        "pd.Series(data=my_list,index=index)"
      ],
      "execution_count": 35,
      "outputs": [
        {
          "output_type": "execute_result",
          "data": {
            "text/plain": [
              "a    10\n",
              "b    20\n",
              "c    30\n",
              "dtype: int64"
            ]
          },
          "metadata": {
            "tags": []
          },
          "execution_count": 35
        }
      ]
    },
    {
      "cell_type": "code",
      "metadata": {
        "id": "DWMexOOu24TA",
        "colab": {
          "base_uri": "https://localhost:8080/"
        },
        "outputId": "0aee8c5f-d063-4386-c180-e5449b8fdf7f"
      },
      "source": [
        "# creating a series from dictionary\n",
        "# import pandas as pd\n",
        "\n",
        "d = {'a':10, 'b':20, 'c':30}\n",
        "pd.Series(d)"
      ],
      "execution_count": 36,
      "outputs": [
        {
          "output_type": "execute_result",
          "data": {
            "text/plain": [
              "a    10\n",
              "b    20\n",
              "c    30\n",
              "dtype: int64"
            ]
          },
          "metadata": {
            "tags": []
          },
          "execution_count": 36
        }
      ]
    },
    {
      "cell_type": "markdown",
      "metadata": {
        "id": "2bic0H2z24TA"
      },
      "source": [
        "<img src=\"https://github.com/mockingmoon/26-Weeks-Of-Data-Science/blob/master/Week-03-Numpy_advanced_Pandas_basic/images/icon/Concept-Alert.png?raw=1\" alt=\"Concept-Alert\" style=\"width: 100px;float:left; margin-right:15px\"/>\n",
        "<br /> \n",
        "\n",
        "## Using Index in a Series\n",
        "***\n",
        "* The key to using a Series is understanding its index.\n",
        "\n",
        "* Pandas makes use of these index names or numbers by allowing for **fast lookups** of information (works like a hash table or dictionary).\n"
      ]
    },
    {
      "cell_type": "code",
      "metadata": {
        "id": "NFoRE1VW24TA",
        "colab": {
          "base_uri": "https://localhost:8080/"
        },
        "outputId": "1ec9aecc-3d1a-4bf9-b1a4-8b53c6b69e2a"
      },
      "source": [
        "# Custom index\n",
        "# import pandas as pd\n",
        "ser1 = pd.Series([1,2,3,4], index=['USA', 'Germany','USSR', 'Japan']) \n",
        "ser2 = pd.Series([1,2,5,4], index=['USA', 'Germany','Italy', 'Japan'])   \n",
        "\n",
        "# get the value of 'USA'\n",
        "print(ser1['USA'])\n",
        "print(ser1[1])"
      ],
      "execution_count": 38,
      "outputs": [
        {
          "output_type": "stream",
          "text": [
            "1\n",
            "2\n"
          ],
          "name": "stdout"
        }
      ]
    },
    {
      "cell_type": "code",
      "metadata": {
        "id": "M-bLixb424TB",
        "colab": {
          "base_uri": "https://localhost:8080/"
        },
        "outputId": "8ea77ae5-7003-4064-d6d2-da10ea3df5a8"
      },
      "source": [
        "print(ser1 + ser2)\r\n",
        "# this fills NaN i.e. Not a number in the fields which are not present in both"
      ],
      "execution_count": 39,
      "outputs": [
        {
          "output_type": "stream",
          "text": [
            "Germany    4.0\n",
            "Italy      NaN\n",
            "Japan      8.0\n",
            "USA        2.0\n",
            "USSR       NaN\n",
            "dtype: float64\n"
          ],
          "name": "stdout"
        }
      ]
    },
    {
      "cell_type": "code",
      "metadata": {
        "id": "aZWjStmI24TB",
        "colab": {
          "base_uri": "https://localhost:8080/"
        },
        "outputId": "540ffdd8-191c-4fed-f6bb-36bad5a524fb"
      },
      "source": [
        "print(ser1.add(ser2, fill_value=0))\r\n",
        "# this adds all values, fills 0 for wherever the field is not present"
      ],
      "execution_count": 41,
      "outputs": [
        {
          "output_type": "stream",
          "text": [
            "Germany    4.0\n",
            "Italy      5.0\n",
            "Japan      8.0\n",
            "USA        2.0\n",
            "USSR       3.0\n",
            "dtype: float64\n"
          ],
          "name": "stdout"
        }
      ]
    },
    {
      "cell_type": "markdown",
      "metadata": {
        "id": "Uxe3iUJc24TC"
      },
      "source": [
        "<img src=\"https://github.com/mockingmoon/26-Weeks-Of-Data-Science/blob/master/Week-03-Numpy_advanced_Pandas_basic/images/icon/Use-Case.png?raw=1\" alt=\"Use-Case\" style=\"width: 100px;float:left; margin-right:15px\"/>\n",
        "<br /> \n",
        "\n",
        "### Question: What were the pressure values recorded on Jan 6 ?\n",
        "***\n",
        "Last time we did this, we knew that the recordings for Jan 6 were from index 120 to 143 inclusive.\n",
        "The solution was:\n",
        "\n",
        "    weather[120:144, 6]\n",
        "\n",
        "Can we do it without that knowledge (of indices) this time?"
      ]
    },
    {
      "cell_type": "markdown",
      "metadata": {
        "id": "3ACExTfv24TC"
      },
      "source": [
        "<div class=\"alert alert-block alert-success\">**Solution 1: What were the first 5 pressure values recorded on Jan 6 ?**</div>\n"
      ]
    },
    {
      "cell_type": "code",
      "metadata": {
        "id": "lN--DYAj24TC",
        "colab": {
          "base_uri": "https://localhost:8080/"
        },
        "outputId": "a1f5fb34-a6ef-44e9-dd54-830ee671d11f"
      },
      "source": [
        "# import pandas as pd\n",
        "\n",
        "index = weather[:, 0]\n",
        "pressure_values = weather[:, -1].astype(np.float16)\n",
        "weather_series = pd.Series(pressure_values, index)\n",
        "indices = ['2012-01-06 {:02d}:00:00'.format(i) for i in range(5)]\n",
        "indices = [i.encode() for i in indices]\n",
        "print(indices)\n",
        "\n",
        "print('-' * 40)\n",
        "\n",
        "jan6_pressures = [weather_series[ind] for ind in indices]\n",
        "print(jan6_pressures)"
      ],
      "execution_count": 43,
      "outputs": [
        {
          "output_type": "stream",
          "text": [
            "[b'2012-01-06 00:00:00', b'2012-01-06 01:00:00', b'2012-01-06 02:00:00', b'2012-01-06 03:00:00', b'2012-01-06 04:00:00']\n",
            "----------------------------------------\n",
            "[100.8, 100.8, 100.8, 100.75, 100.7]\n"
          ],
          "name": "stdout"
        }
      ]
    },
    {
      "cell_type": "markdown",
      "metadata": {
        "id": "KGCdUOr-24TC"
      },
      "source": [
        "<div class=\"alert alert-block alert-success\">**Solution 2: What were the first 5 pressure values recorded on Jan 6 ?**</div>\n",
        "\n",
        "\n",
        "***\n",
        "Surely there must be a better way than using loops and falling back to Python lists?"
      ]
    },
    {
      "cell_type": "code",
      "metadata": {
        "id": "dkwgIbYk24TD",
        "colab": {
          "base_uri": "https://localhost:8080/"
        },
        "outputId": "ee35ea14-2ea7-47a9-8b48-9b4e1f70eeea"
      },
      "source": [
        "index = weather[:, 0]\n",
        "pressure_values = weather[:, -1].astype(np.float16)\n",
        "weather_series = pd.Series(pressure_values, index)\n",
        "weather_series.index = [i.decode() for i in weather_series.index]\n",
        "weather_series.index\n",
        "jan6_filter = weather_series.index.str.startswith('2012-01-06')\n",
        "print(jan6_filter)\n",
        "\n",
        "print('-' * 40)\n",
        "\n",
        "jan6_pressures = weather_series[jan6_filter]\n",
        "print(jan6_pressures[:5])"
      ],
      "execution_count": 44,
      "outputs": [
        {
          "output_type": "stream",
          "text": [
            "[False False False ... False False False]\n",
            "----------------------------------------\n",
            "2012-01-06 00:00:00    100.8125\n",
            "2012-01-06 01:00:00    100.8125\n",
            "2012-01-06 02:00:00    100.8125\n",
            "2012-01-06 03:00:00    100.7500\n",
            "2012-01-06 04:00:00    100.6875\n",
            "dtype: float16\n"
          ],
          "name": "stdout"
        }
      ]
    },
    {
      "cell_type": "markdown",
      "metadata": {
        "id": "3pGDdMhe24TD"
      },
      "source": [
        "<img src=\"https://github.com/mockingmoon/26-Weeks-Of-Data-Science/blob/master/Week-03-Numpy_advanced_Pandas_basic/images/icon/Use-Case.png?raw=1\" alt=\"Use-Case\" style=\"width: 100px;float:left; margin-right:15px\"/>\n",
        "<br /> \n",
        "\n",
        "## Mini Challenge - 3\n",
        "***\n",
        "Can you find the value of 'USSR' from the series ser1"
      ]
    },
    {
      "cell_type": "code",
      "metadata": {
        "id": "NnxNRw2A24TE",
        "colab": {
          "base_uri": "https://localhost:8080/"
        },
        "outputId": "5eead434-ab37-4afe-a03a-643324b8ce48"
      },
      "source": [
        "# import pandas as pd\n",
        "ser1 = pd.Series([1,2,3,4], index=['USA', 'Germany','USSR', 'Japan']) \n",
        "ser2 = pd.Series([1,2,5,4], index=['USA', 'Germany','Italy', 'Japan'])   \n",
        "print(ser1['USSR'])"
      ],
      "execution_count": 45,
      "outputs": [
        {
          "output_type": "stream",
          "text": [
            "3\n"
          ],
          "name": "stdout"
        }
      ]
    },
    {
      "cell_type": "markdown",
      "metadata": {
        "id": "y8IpCJkoaSp3"
      },
      "source": [
        "<img src=\"https://github.com/mockingmoon/26-Weeks-Of-Data-Science/blob/master/Week-03-Numpy_advanced_Pandas_basic/images/icon/Use-Case.png?raw=1\" alt=\"Use-Case\" style=\"width: 100px;float:left; margin-right:15px\"/>\n",
        "<br /> \n",
        "\n",
        "## Mini Challenge - 4\n",
        "***\n",
        "Normalize the data by creating a function to perform following steps:\n",
        "\n",
        "-Find sum of all values in a series\n",
        "\n",
        "-Divide all values by the calculated sum\n",
        "\n",
        "-Return the new series\n",
        "\n",
        "Use the above function for ser1, ser2\n",
        "\n",
        "Add both Series using Series.add(ser, fill_value=0).\n",
        "Divide the answer by 2.\n",
        "\n",
        "Thus, the sum of all values for your answer series must be 1."
      ]
    },
    {
      "cell_type": "code",
      "metadata": {
        "colab": {
          "base_uri": "https://localhost:8080/"
        },
        "id": "a5DMwbyCaSqB",
        "outputId": "70cd1af5-9ef3-4148-a041-588c41ab122b"
      },
      "source": [
        "def myNormalizer(ser):\n",
        "  mySum = sum(ser)\n",
        "  print(mySum)\n",
        "  if mySum!=0:\n",
        "    mySer = ser.div(mySum)\n",
        "  return mySer\n",
        "\n",
        "newSer1 = myNormalizer(ser1)\n",
        "newSer2 = myNormalizer(ser2)\n",
        "ans = newSer1.add(newSer2, fill_value=0).div(2)\n",
        "print(ans)\n",
        "print(sum(ans))"
      ],
      "execution_count": 52,
      "outputs": [
        {
          "output_type": "stream",
          "text": [
            "10\n",
            "12\n",
            "Germany    0.366667\n",
            "Italy      0.416667\n",
            "Japan      0.733333\n",
            "USA        0.183333\n",
            "USSR       0.300000\n",
            "dtype: float64\n",
            "2.0\n"
          ],
          "name": "stdout"
        }
      ]
    },
    {
      "cell_type": "markdown",
      "metadata": {
        "id": "QAUOlqR624TE"
      },
      "source": [
        "# Further Reading\n",
        "***\n",
        "- NumPy documentation: http://www.numpy.org/\n",
        "- Pandas documentation: http://pandas.pydata.org/\n"
      ]
    },
    {
      "cell_type": "markdown",
      "metadata": {
        "id": "RPgMiFPi24TE"
      },
      "source": [
        "<img src=\"https://github.com/mockingmoon/26-Weeks-Of-Data-Science/blob/master/Week-03-Numpy_advanced_Pandas_basic/images/icon/Recap.png?raw=1\" alt=\"Recap\" style=\"width: 100px;float:left; margin-right:15px\"/>\n",
        "<br />\n",
        "\n",
        "# In-session Recap Time\n",
        "***\n",
        "- Indexing and Selection\n",
        "- Slicing\n",
        "- Filters\n",
        "- Replacing Values\n",
        "* Pandas\n",
        "    * Data Structures in Pandas\n",
        "    * Features of Pandas\n",
        "    * Series"
      ]
    },
    {
      "cell_type": "markdown",
      "metadata": {
        "collapsed": true,
        "id": "Sr6rVERL24TF"
      },
      "source": [
        "# Thank You\n",
        "***\n",
        "### Coming up next...\n",
        "***\n",
        "- Pandas Advanced: DataFrame\n",
        "- Visualizing data\n",
        "\n",
        "For more queries - Reach out to academics@greyatom.com "
      ]
    },
    {
      "cell_type": "markdown",
      "metadata": {
        "id": "eat7HtNv24TF"
      },
      "source": [
        ""
      ]
    }
  ]
}